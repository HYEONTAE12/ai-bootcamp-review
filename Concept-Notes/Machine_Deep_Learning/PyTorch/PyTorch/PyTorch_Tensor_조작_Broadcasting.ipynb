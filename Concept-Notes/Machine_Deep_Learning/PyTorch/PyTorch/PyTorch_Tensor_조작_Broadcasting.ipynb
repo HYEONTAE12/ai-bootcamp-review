{
 "cells": [
  {
   "cell_type": "code",
   "execution_count": 1,
   "id": "612fb2d7",
   "metadata": {},
   "outputs": [],
   "source": [
    "import torch\n",
    "import numpy as np\n",
    "import warnings\n",
    "warnings.filterwarnings('ignore')\n"
   ]
  },
  {
   "cell_type": "code",
   "execution_count": 5,
   "id": "8b4db426",
   "metadata": {},
   "outputs": [
    {
     "name": "stdout",
     "output_type": "stream",
     "text": [
      "덧셈\n",
      "a+b : \n",
      " tensor([[ 3, -3],\n",
      "        [ 5,  4]])\n",
      "\n",
      "\n",
      "torch.add(a,b)\n",
      " tensor([[ 3, -3],\n",
      "        [ 5,  4]])\n",
      "----------------------------------------\n",
      "뺄셈\n",
      "a-b : \n",
      " tensor([[-1,  1],\n",
      "        [-1,  2]])\n",
      "\n",
      "\n",
      "torch.sub(a,b) \n",
      " tensor([[-1,  1],\n",
      "        [-1,  2]])\n",
      "----------------------------------------\n",
      "곱셈\n",
      "a*b : \n",
      " tensor([[2, 2],\n",
      "        [6, 3]])\n",
      "\n",
      "\n",
      "torch.mul(a,b)\n",
      " tensor([[2, 2],\n",
      "        [6, 3]])\n",
      "----------------------------------------\n",
      "나눗셈\n",
      "a/b : \n",
      " tensor([[0.5000, 0.5000],\n",
      "        [0.6667, 3.0000]])\n",
      "\n",
      "\n",
      "torch.div(a,b)\n",
      " tensor([[0.5000, 0.5000],\n",
      "        [0.6667, 3.0000]])\n",
      "----------------------------------------\n"
     ]
    }
   ],
   "source": [
    "tensor_a = torch.tensor([[1, -1], [2, 3]])\n",
    "tensor_b = torch.tensor([[2, -2], [3, 1]])\n",
    "\n",
    "print('덧셈')\n",
    "print(f\"a+b : \\n {tensor_a + tensor_b}\")\n",
    "print(\"\\n\")\n",
    "print(\"torch.add(a,b)\\n\", torch.add(tensor_a, tensor_b))\n",
    "print(\"----\"* 10)\n",
    "\n",
    "print('뺄셈')\n",
    "print(f\"a-b : \\n {tensor_a - tensor_b}\")\n",
    "print(\"\\n\")\n",
    "print(\"torch.sub(a,b) \\n\", torch.sub(tensor_a, tensor_b))\n",
    "print(\"----\"* 10)\n",
    "\n",
    "print('곱셈')\n",
    "print(f\"a*b : \\n {tensor_a * tensor_b}\")\n",
    "print(\"\\n\")\n",
    "print(\"torch.mul(a,b)\\n\", torch.mul(tensor_a, tensor_b))\n",
    "print(\"----\"* 10)\n",
    "\n",
    "print('나눗셈')\n",
    "print(f\"a/b : \\n {tensor_a / tensor_b}\")\n",
    "print(\"\\n\")\n",
    "print(\"torch.div(a,b)\\n\", torch.div(tensor_a, tensor_b))\n",
    "print(\"----\"* 10)"
   ]
  },
  {
   "cell_type": "code",
   "execution_count": 6,
   "id": "4b006086",
   "metadata": {},
   "outputs": [
    {
     "name": "stdout",
     "output_type": "stream",
     "text": [
      "tensor([[1, 2],\n",
      "        [3, 4]])\n",
      "Shape : torch.Size([2, 2])\n",
      "\n",
      "\n",
      "dim 지정 x  tensor(10)\n",
      "dim = 0  tensor([4, 6])\n",
      "dim = 1  tensor([3, 7])\n"
     ]
    }
   ],
   "source": [
    "# sum : 텐서의 원소들의 합을 반환\n",
    "tensor_a = torch.tensor([[1,2], [3,4]])\n",
    "print(tensor_a)\n",
    "print(f\"Shape : {tensor_a.size()}\")\n",
    "\n",
    "print('\\n')\n",
    "\n",
    "print('dim 지정 x ', torch.sum(tensor_a))\n",
    "print('dim = 0 ', torch.sum(tensor_a, dim=0))\n",
    "print('dim = 1 ', torch.sum(tensor_a, dim=1))"
   ]
  },
  {
   "cell_type": "code",
   "execution_count": 7,
   "id": "044e6a00",
   "metadata": {},
   "outputs": [
    {
     "name": "stdout",
     "output_type": "stream",
     "text": [
      "tensor([[1., 2.],\n",
      "        [3., 4.]])\n",
      "Shape : torch.Size([2, 2])\n",
      "\n",
      "\n",
      "dim 지정 x  tensor(2.5000)\n",
      "dim = 0  tensor([2., 3.])\n",
      "dim = 1  tensor([1.5000, 3.5000])\n"
     ]
    }
   ],
   "source": [
    "# mean : 텐서의 원소들의 평균을 반환 \n",
    "# mean 은 실수가 나올 수 있으므로 float 로 지정해주어야 함.\n",
    "tensor_a = torch.tensor([[1,2], [3,4]], dtype=torch.float32)\n",
    "print(tensor_a)\n",
    "print(f\"Shape : {tensor_a.size()}\")\n",
    "\n",
    "print('\\n')\n",
    "\n",
    "print('dim 지정 x ', torch.mean(tensor_a))\n",
    "print('dim = 0 ', torch.mean(tensor_a, dim=0))\n",
    "print('dim = 1 ', torch.mean(tensor_a, dim=1))\n",
    "\n"
   ]
  },
  {
   "cell_type": "code",
   "execution_count": 11,
   "id": "f26fa576",
   "metadata": {},
   "outputs": [
    {
     "name": "stdout",
     "output_type": "stream",
     "text": [
      "tensor([[1., 2.],\n",
      "        [3., 4.]])\n",
      "Shape : torch.Size([2, 2])\n",
      "\n",
      "\n",
      "max\n",
      "dim 지정 x  tensor(4.)\n",
      "dim = 0  tensor([3., 4.])\n",
      "dim = 1  tensor([2., 4.])\n",
      "\n",
      "\n",
      "--------------------\n",
      "min\n",
      "dim 지정 x  tensor(1.)\n",
      "dim = 0  tensor([1., 2.])\n",
      "dim = 1  tensor([1., 3.])\n"
     ]
    }
   ],
   "source": [
    "# max : 텐서의 원소들의 가장 큰 값을 반환\n",
    "# min : 텐서의 원소들의 가장 작은 값을 반환\n",
    "\n",
    "tensor_a = torch.tensor([[1,2], [3,4]], dtype=torch.float32)\n",
    "print(tensor_a)\n",
    "print(f\"Shape : {tensor_a.size()}\")\n",
    "\n",
    "print('\\n')\n",
    "\n",
    "print(\"max\")\n",
    "print('dim 지정 x ', torch.max(tensor_a))\n",
    "print('dim = 0 ', torch.max(tensor_a, dim=0).values)\n",
    "print('dim = 1 ', torch.max(tensor_a, dim=1).values)\n",
    "print('\\n')\n",
    "\n",
    "print(\"-\" * 20)\n",
    "\n",
    "print('min')\n",
    "print('dim 지정 x ', torch.min(tensor_a))\n",
    "print('dim = 0 ', torch.min(tensor_a, dim=0).values)\n",
    "print('dim = 1 ', torch.min(tensor_a, dim=1).values)"
   ]
  },
  {
   "cell_type": "code",
   "execution_count": 12,
   "id": "198d30ce",
   "metadata": {},
   "outputs": [
    {
     "name": "stdout",
     "output_type": "stream",
     "text": [
      "tensor([[1., 2.],\n",
      "        [3., 4.]])\n",
      "Shape : torch.Size([2, 2])\n",
      "\n",
      "\n",
      "max\n",
      "dim 지정 x  tensor(4.)\n",
      "dim = 0  tensor([1, 1])\n",
      "dim = 1  tensor([1, 1])\n",
      "\n",
      "\n",
      "--------------------\n",
      "min\n",
      "dim 지정 x  tensor(1.)\n",
      "dim = 0  tensor([0, 0])\n",
      "dim = 1  tensor([0, 0])\n"
     ]
    }
   ],
   "source": [
    "# argmax : 텐서의 원소들의 가장 큰 값의 위치 반환\n",
    "# argmin : 텐서의 원소들의 가장 작은 값의 위치 반환\n",
    "\n",
    "tensor_a = torch.tensor([[1,2], [3,4]], dtype=torch.float32)\n",
    "print(tensor_a)\n",
    "print(f\"Shape : {tensor_a.size()}\")\n",
    "\n",
    "print('\\n')\n",
    "\n",
    "print(\"max\")\n",
    "print('dim 지정 x ', torch.max(tensor_a))\n",
    "print('dim = 0 ', torch.argmax(tensor_a, dim=0))\n",
    "print('dim = 1 ', torch.argmax(tensor_a, dim=1))\n",
    "print('\\n')\n",
    "\n",
    "print(\"-\" * 20)\n",
    "\n",
    "print('min')\n",
    "print('dim 지정 x ', torch.min(tensor_a))\n",
    "print('dim = 0 ', torch.argmin(tensor_a, dim=0))\n",
    "print('dim = 1 ', torch.argmin(tensor_a, dim=1))"
   ]
  },
  {
   "cell_type": "code",
   "execution_count": 13,
   "id": "0dbc1ee3",
   "metadata": {},
   "outputs": [
    {
     "name": "stdout",
     "output_type": "stream",
     "text": [
      "v1.dot(u1) :  tensor(11)\n",
      "torch.dot(v1, u1) :  tensor(11)\n"
     ]
    }
   ],
   "source": [
    "# dot : 백터의 내적 (inner product) 반환\n",
    "\n",
    "v1 = torch.tensor([1, 2])\n",
    "u1 = torch.tensor([3, 4])\n",
    "\n",
    "print(\"v1.dot(u1) : \", v1.dot(u1))\n",
    "print(\"torch.dot(v1, u1) : \", torch.dot(v1, u1))"
   ]
  },
  {
   "cell_type": "code",
   "execution_count": 16,
   "id": "9b64bb8b",
   "metadata": {},
   "outputs": [
    {
     "name": "stdout",
     "output_type": "stream",
     "text": [
      "A :\n",
      "  tensor([[1, 2],\n",
      "        [3, 4]])\n",
      "B :\n",
      "  tensor([[-1,  2],\n",
      "        [ 1,  0]])\n",
      "\n",
      "\n",
      "AB :\n",
      "  tensor([[1, 2],\n",
      "        [1, 6]])\n",
      "BA :\n",
      "  tensor([[5, 6],\n",
      "        [1, 2]])\n"
     ]
    }
   ],
   "source": [
    "# matmul : 두 텐서 간의 행렬곱 반환 \n",
    "# 원소 곱과 다름 \n",
    "\n",
    "A = torch.tensor([[1,2], [3,4]])\n",
    "B = torch.tensor([[-1, 2], [1, 0]])\n",
    "print(\"A :\\n \", A)\n",
    "print(\"B :\\n \", B)\n",
    "\n",
    "print('\\n')\n",
    "\n",
    "print('AB :\\n ', torch.matmul(A,B)) # A에서 B를 행렬곱\n",
    "print(\"BA :\\n \", B.matmul(A)) # B에서 A를 행렬곱"
   ]
  },
  {
   "cell_type": "code",
   "execution_count": 17,
   "id": "ca538a8b",
   "metadata": {},
   "outputs": [
    {
     "name": "stdout",
     "output_type": "stream",
     "text": [
      "Original : \n",
      " tensor([[ 0.5374,  0.7376],\n",
      "        [ 1.5284, -1.0753],\n",
      "        [ 0.5044,  0.1333]])\n",
      "\n",
      "\n",
      "변경된 텐서 : \n",
      " tensor([[10.0000, 10.0000],\n",
      "        [ 1.5284, -1.0753],\n",
      "        [ 0.5044,  0.1333]])\n"
     ]
    }
   ],
   "source": [
    "# scalar 값으로 텐서 원소 변경하기\n",
    "\n",
    "tensor_a = torch.randn(3,2)\n",
    "print(\"Original : \\n\" , tensor_a)\n",
    "\n",
    "print('\\n')\n",
    "\n",
    "## 0 행의 모든 열을 10으로 변경하기\n",
    "tensor_a[0, :] = 10\n",
    "print(\"변경된 텐서 : \\n\", tensor_a)"
   ]
  },
  {
   "cell_type": "code",
   "execution_count": 18,
   "id": "b4144137",
   "metadata": {},
   "outputs": [
    {
     "name": "stdout",
     "output_type": "stream",
     "text": [
      "Original : \n",
      " tensor([[-1.0382,  0.1683],\n",
      "        [ 0.4730, -1.1136],\n",
      "        [-0.0851,  1.0655]])\n",
      "\n",
      "\n",
      "변경된 텐서 : \n",
      " tensor([[0., 1.],\n",
      "        [0., 1.],\n",
      "        [0., 1.]])\n"
     ]
    }
   ],
   "source": [
    "# scalar 값으로 텐서 원소 변경하기\n",
    "\n",
    "tensor_a = torch.randn(3,2)\n",
    "print(\"Original : \\n\" , tensor_a)\n",
    "\n",
    "print('\\n')\n",
    "\n",
    "## 모든 값을 tensor[0,1] 변경\n",
    "tensor_a[:, :] = torch.tensor([0,1])\n",
    "print(\"변경된 텐서 : \\n\", tensor_a)"
   ]
  },
  {
   "cell_type": "code",
   "execution_count": null,
   "id": "ca87f8df",
   "metadata": {},
   "outputs": [
    {
     "name": "stdout",
     "output_type": "stream",
     "text": [
      "tensor_a : \n",
      " tensor([[1., 0., 0.],\n",
      "        [0., 1., 0.],\n",
      "        [0., 0., 1.]])\n",
      "\n",
      "\n",
      "tensor_b : \n",
      " tensor([1, 2, 3])\n",
      "\n",
      "\n",
      "a + b : \n",
      " tensor([[2., 2., 3.],\n",
      "        [1., 3., 3.],\n",
      "        [1., 2., 4.]])\n"
     ]
    }
   ],
   "source": [
    "# 차원이 서로 다른 텐서 간의 연산\n",
    "\n",
    "tensor_a = torch.eye(3)\n",
    "print('tensor_a : \\n', tensor_a)\n",
    "\n",
    "print('\\n')\n",
    "\n",
    "tensor_b = torch.tensor([1,2,3])\n",
    "print('tensor_b : \\n', tensor_b)\n",
    "\n",
    "print('\\n')\n",
    "\n",
    "print('a + b : \\n', tensor_a + tensor_b)\n"
   ]
  },
  {
   "cell_type": "code",
   "execution_count": null,
   "id": "d4eab490",
   "metadata": {},
   "outputs": [
    {
     "name": "stdout",
     "output_type": "stream",
     "text": [
      "tensor([[[ 0.4106, -0.7186,  1.0626,  0.0818,  0.5512],\n",
      "         [ 0.1739,  1.8655, -0.2832,  0.4819,  0.4771]],\n",
      "\n",
      "        [[-0.0227, -0.1563, -0.8777, -1.9394,  1.5576],\n",
      "         [ 0.3707,  0.7164,  0.1423,  0.1092,  0.7987]],\n",
      "\n",
      "        [[ 0.1426, -1.5565,  1.2994,  0.7434,  0.1057],\n",
      "         [ 1.8407,  1.5982,  0.1855, -1.3703,  0.2949]]])\n",
      "\n",
      "\n",
      "tensor([[ 0.2775,  0.5430],\n",
      "        [-0.2877,  0.4274],\n",
      "        [ 0.1469,  0.5098]])\n"
     ]
    }
   ],
   "source": [
    "# 차원이 맞지 않는 경우, 차원을 추가하여 broadcating으로 텐서 간의 계산을 할 수 있다.\n",
    "tensor_a = torch.randn(3,2,5)\n",
    "mean_a = tensor_a.mean(2) # 열 기준 평균값\n",
    "\n",
    "print(f\"tensor size : {tensor_a.size()}, mean size : {mean_a.size()}\")\n",
    "\n",
    "print('\\n')\n",
    "\n",
    "print(tensor_a - mean_a) # error 발생 차원이 달라서 계산 불가능\n"
   ]
  },
  {
   "cell_type": "code",
   "execution_count": 24,
   "id": "20b00d1a",
   "metadata": {},
   "outputs": [
    {
     "name": "stdout",
     "output_type": "stream",
     "text": [
      "torch.Size([3, 2, 1])\n",
      "\n",
      "\n",
      "tensor([[[ 0.1331, -0.9961,  0.7851, -0.1957,  0.2736],\n",
      "         [-0.3692,  1.3225, -0.8262, -0.0611, -0.0660]],\n",
      "\n",
      "        [[ 0.2650,  0.1314, -0.5900, -1.6517,  1.8453],\n",
      "         [-0.0567,  0.2889, -0.2852, -0.3183,  0.3713]],\n",
      "\n",
      "        [[-0.0044, -1.7034,  1.1525,  0.5964, -0.0412],\n",
      "         [ 1.3309,  1.0884, -0.3243, -1.8801, -0.2149]]])\n"
     ]
    }
   ],
   "source": [
    "# 차원이 다를 경우 해결 방법\n",
    "unseq_mean = mean_a.unsqueeze(-1) # 마지막 축 추가 (3, 2 ,1)\n",
    "print(unseq_mean.size())\n",
    "\n",
    "print('\\n')\n",
    "\n",
    "\n",
    "print(tensor_a - unseq_mean) # (3, 2, 5) - (3, 2 ,1) 계산 가능\n",
    "\n"
   ]
  },
  {
   "cell_type": "code",
   "execution_count": null,
   "id": "cb1c588b",
   "metadata": {},
   "outputs": [],
   "source": []
  }
 ],
 "metadata": {
  "kernelspec": {
   "display_name": "pytorch_test",
   "language": "python",
   "name": "python3"
  },
  "language_info": {
   "codemirror_mode": {
    "name": "ipython",
    "version": 3
   },
   "file_extension": ".py",
   "mimetype": "text/x-python",
   "name": "python",
   "nbconvert_exporter": "python",
   "pygments_lexer": "ipython3",
   "version": "3.10.18"
  }
 },
 "nbformat": 4,
 "nbformat_minor": 5
}
