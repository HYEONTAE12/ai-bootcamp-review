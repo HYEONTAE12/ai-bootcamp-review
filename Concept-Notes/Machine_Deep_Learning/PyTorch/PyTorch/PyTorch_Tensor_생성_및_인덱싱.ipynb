{
 "cells": [
  {
   "cell_type": "code",
   "execution_count": 1,
   "id": "ca69acb4",
   "metadata": {},
   "outputs": [
    {
     "name": "stdout",
     "output_type": "stream",
     "text": [
      "2.5.1\n",
      "12.4\n",
      "True\n"
     ]
    }
   ],
   "source": [
    "import torch\n",
    "print(torch.__version__)\n",
    "print(torch.version.cuda)\n",
    "print(torch.cuda.is_available())"
   ]
  },
  {
   "cell_type": "code",
   "execution_count": 2,
   "id": "a1430de1",
   "metadata": {},
   "outputs": [],
   "source": [
    "import numpy as np\n",
    "import warnings \n",
    "warnings.filterwarnings('ignore')\n"
   ]
  },
  {
   "cell_type": "code",
   "execution_count": null,
   "id": "e38636a2",
   "metadata": {},
   "outputs": [
    {
     "data": {
      "text/plain": [
       "tensor([[0.6996, 0.1080, 0.5712],\n",
       "        [0.7624, 0.5089, 0.1848]])"
      ]
     },
     "execution_count": 3,
     "metadata": {},
     "output_type": "execute_result"
    }
   ],
   "source": [
    "# 텐서의 값을 무작위로 생성하는 방법\n",
    "# 0 부터 1 사이의 값을 랜덤하게 NxM 텐서로 반환\n",
    "torch.rand(2, 3)"
   ]
  },
  {
   "cell_type": "code",
   "execution_count": 4,
   "id": "00f0dddc",
   "metadata": {},
   "outputs": [
    {
     "data": {
      "text/plain": [
       "tensor([[ 1.2204,  0.5394,  1.5100],\n",
       "        [ 1.2632,  0.6275, -0.7197]])"
      ]
     },
     "execution_count": 4,
     "metadata": {},
     "output_type": "execute_result"
    }
   ],
   "source": [
    "# randn 평균이 0이고 표준편차가 1인 정규 분포(가우시안 분포)에서 무작위로 생성된 텐서를 반환\n",
    "torch.randn(2, 3)"
   ]
  },
  {
   "cell_type": "code",
   "execution_count": null,
   "id": "53cdb66d",
   "metadata": {},
   "outputs": [
    {
     "data": {
      "text/plain": [
       "tensor([[5, 8, 5, 7, 8],\n",
       "        [7, 3, 4, 2, 9],\n",
       "        [8, 3, 6, 1, 3],\n",
       "        [7, 5, 1, 4, 9],\n",
       "        [6, 2, 7, 4, 6]])"
      ]
     },
     "execution_count": 9,
     "metadata": {},
     "output_type": "execute_result"
    }
   ],
   "source": [
    "# randint 주어진 범위 내에서 정수값을 무작위로 선택하여 텐서를 생성\n",
    "torch.randint(1, 10, (5,5)) # 최소값 = 1 , 최대값 = 9 , (5x5) Tensor 크기  "
   ]
  },
  {
   "cell_type": "code",
   "execution_count": null,
   "id": "7ca30b84",
   "metadata": {},
   "outputs": [
    {
     "data": {
      "text/plain": [
       "tensor([[0., 0., 0.],\n",
       "        [0., 0., 0.],\n",
       "        [0., 0., 0.]])"
      ]
     },
     "execution_count": 14,
     "metadata": {},
     "output_type": "execute_result"
    }
   ],
   "source": [
    "# 0의 값을 가지는 NxM 텐서를 생성\n",
    "torch.zeros(3,3)"
   ]
  },
  {
   "cell_type": "code",
   "execution_count": 15,
   "id": "6e4b05b5",
   "metadata": {},
   "outputs": [
    {
     "data": {
      "text/plain": [
       "tensor([[[1., 1., 1.],\n",
       "         [1., 1., 1.]],\n",
       "\n",
       "        [[1., 1., 1.],\n",
       "         [1., 1., 1.]],\n",
       "\n",
       "        [[1., 1., 1.],\n",
       "         [1., 1., 1.]]])"
      ]
     },
     "execution_count": 15,
     "metadata": {},
     "output_type": "execute_result"
    }
   ],
   "source": [
    "# 1의 값을 가지는 NxM 텐서를 생성\n",
    "torch.ones(3,2,3)"
   ]
  },
  {
   "cell_type": "code",
   "execution_count": null,
   "id": "c8e829d8",
   "metadata": {},
   "outputs": [
    {
     "data": {
      "text/plain": [
       "tensor([[[10, 10],\n",
       "         [10, 10],\n",
       "         [10, 10]],\n",
       "\n",
       "        [[10, 10],\n",
       "         [10, 10],\n",
       "         [10, 10]]])"
      ]
     },
     "execution_count": 19,
     "metadata": {},
     "output_type": "execute_result"
    }
   ],
   "source": [
    "# 모든 요소가 지정된 값의 텐서로 반환\n",
    "torch.full((2,3,2),10) # torch.full((*size),value)"
   ]
  },
  {
   "cell_type": "code",
   "execution_count": null,
   "id": "e189202c",
   "metadata": {},
   "outputs": [
    {
     "data": {
      "text/plain": [
       "tensor([[1., 0., 0., 0., 0., 0., 0., 0., 0., 0.],\n",
       "        [0., 1., 0., 0., 0., 0., 0., 0., 0., 0.],\n",
       "        [0., 0., 1., 0., 0., 0., 0., 0., 0., 0.],\n",
       "        [0., 0., 0., 1., 0., 0., 0., 0., 0., 0.],\n",
       "        [0., 0., 0., 0., 1., 0., 0., 0., 0., 0.],\n",
       "        [0., 0., 0., 0., 0., 1., 0., 0., 0., 0.],\n",
       "        [0., 0., 0., 0., 0., 0., 1., 0., 0., 0.],\n",
       "        [0., 0., 0., 0., 0., 0., 0., 1., 0., 0.],\n",
       "        [0., 0., 0., 0., 0., 0., 0., 0., 1., 0.],\n",
       "        [0., 0., 0., 0., 0., 0., 0., 0., 0., 1.]])"
      ]
     },
     "execution_count": 24,
     "metadata": {},
     "output_type": "execute_result"
    }
   ],
   "source": [
    "# eye : 단위 행렬 반환(단위 행렬 ? : 대각선 요소가 1이고, 나머지는 전부 0인 행렬)\n",
    "torch.eye(10) # nxn의 대각선 요소가 1인 행렬을 반환"
   ]
  },
  {
   "cell_type": "code",
   "execution_count": 61,
   "id": "5e22a9c3",
   "metadata": {},
   "outputs": [
    {
     "name": "stdout",
     "output_type": "stream",
     "text": [
      "<class 'list'>\n",
      "<class 'tuple'>\n",
      "<class 'numpy.ndarray'>\n",
      "<class 'dict'>\n",
      "<class 'set'>\n",
      "tensor([[1, 3, 2, 5],\n",
      "        [2, 4, 6, 7]])\n",
      "tensor([1, 2, 3])\n",
      "tensor([[[1, 2, 3],\n",
      "         [2, 4, 6],\n",
      "         [3, 5, 7]],\n",
      "\n",
      "        [[5, 6, 7],\n",
      "         [6, 7, 8],\n",
      "         [7, 1, 2]]])\n",
      "tensor([1, 2])\n",
      "tensor([1, 2, 3, 4])\n"
     ]
    }
   ],
   "source": [
    "# tensor : 주어진 데이터를 텐서로 변환. 데이터는 list, tuple, numpy array등의 형태일 수 있음\n",
    "ls = [[1,3,2,5], [2,4,6,7]]\n",
    "tup = tuple([1,2,3])\n",
    "arr = np.array([[[1,2,3], [2,4,6], [3,5,7]],[[5,6,7],[6,7,8],[7,1,2]]])\n",
    "dic = {1 : 1, 2 : 2}\n",
    "sett = {1,2,3,4}\n",
    "\n",
    "# 타입 확인\n",
    "print(type(ls))\n",
    "print(type(tup))\n",
    "print(type(arr))\n",
    "print(type(dic))\n",
    "print(type(sett))\n",
    "\n",
    "# list, tuple, array 같은 경우에는 텐서 변환이 가능하지만\n",
    "# dic 같은 경우는 key : value 로 저장 되기 때문에 tensor로 변환시에 list로 변환 후 값만 따로 불러와야한다.\n",
    "# set는 순서가 없는 자료 이기 때문에 내부 요소의 순서를 확정할 수 없음 \n",
    "# torch는 set 자체를 배열로 간주할 수 없음 그렇기에 set도 list로 변환 후에 tensor로 변환을 해야함\n",
    "print(torch.tensor(ls))\n",
    "print(torch.tensor(tup))\n",
    "print(torch.tensor(arr))\n",
    "print(torch.tensor(list(dic.values())))\n",
    "print(torch.tensor(list(sett)))\n"
   ]
  },
  {
   "cell_type": "code",
   "execution_count": null,
   "id": "fb9e16d7",
   "metadata": {},
   "outputs": [
    {
     "name": "stdout",
     "output_type": "stream",
     "text": [
      "tensor([[[1, 2, 3],\n",
      "         [2, 4, 6],\n",
      "         [3, 5, 7]],\n",
      "\n",
      "        [[5, 6, 7],\n",
      "         [6, 7, 8],\n",
      "         [7, 1, 2]]])\n",
      "tensor([[[99,  2,  3],\n",
      "         [ 2,  4,  6],\n",
      "         [ 3,  5,  7]],\n",
      "\n",
      "        [[ 5,  6,  7],\n",
      "         [ 6,  7,  8],\n",
      "         [ 7,  1,  2]]])\n",
      "tensor([[1, 3, 2, 5],\n",
      "        [2, 4, 6, 7]])\n"
     ]
    }
   ],
   "source": [
    "# # from_numpy(arr) : numpy_array를 텐서로 변환 , numpy 배열만 가능\n",
    "# # torch.tensor와 torch.from_numpy의 차이점은 tensor는 arr에 대한 복사본을 만들지만,\n",
    "# # from_numpy는 arr와 메모리를 공유한다. arr가 바뀌면 같이 바뀜\n",
    "# # as.tensor : from_numpy와 동일한 기능을 하지만 list나 tuple등도 가능하다\n",
    "# # 하지만 numpy_array가 아닌 list, tuple 등이 파라미터로 전달된다면 copy한다.\n",
    "t1 = torch.tensor(arr)\n",
    "t2 = torch.from_numpy(arr)\n",
    "t3 = torch.as_tensor(ls)\n",
    "\n",
    "arr[0][0][0] = 99\n",
    "print(t1) # tensor 독립적\n",
    "print(t2) # from_numpy 메모리 공유\n",
    "\n",
    "# # list 메모리 공유 x\n",
    "ls[0][0] = 99\n",
    "print(t3)\n",
    "# # 데이터가 크고 복사 비용이 아까울 때 from_numpy를 사용"
   ]
  },
  {
   "cell_type": "code",
   "execution_count": 69,
   "id": "64eddb1e",
   "metadata": {},
   "outputs": [
    {
     "name": "stdout",
     "output_type": "stream",
     "text": [
      "torch.tensor\n",
      "Output : tensor([1, 2, 3, 4, 5])\n",
      "Type : torch.int64\n",
      "--------------------\n",
      "torch.Tensor\n",
      "Output : tensor([1., 2., 3., 4., 5.])\n",
      "Type : torch.float32\n",
      "--------------------\n",
      "torch.tensor(data, dtype=torch.float32)\n",
      "Output : tensor([1., 2., 3., 4., 5.])\n",
      "Type : torch.float32\n"
     ]
    }
   ],
   "source": [
    "# torch.Tensor : float 32 type으로 텐서 변환\n",
    "# torch.tensor : default int 64 \n",
    "\n",
    "\n",
    "# tensor 변환\n",
    "data = [1,2,3,4,5]\n",
    "tensor1 = torch.tensor(data) # list 에서 tensor 변환\n",
    "print(\"torch.tensor\")\n",
    "print(f\"Output : {tensor1}\")\n",
    "print(f\"Type : {tensor1.dtype}\")\n",
    "\n",
    "print(\"-\" * 20)\n",
    "\n",
    "# Tensor 변환\n",
    "tensor2 = torch.Tensor(data)\n",
    "print(\"torch.Tensor\")\n",
    "print(f\"Output : {tensor2}\")\n",
    "print(f\"Type : {tensor2.dtype}\")\n",
    "\n",
    "print(\"-\" * 20)\n",
    "\n",
    "# tensor 인자에 dtype=torch.float32를 사용해도 된다\n",
    "tensor3 = torch.tensor(data, dtype=torch.float32)\n",
    "print(\"torch.tensor(data, dtype=torch.float32)\")\n",
    "print(f\"Output : {tensor3}\")\n",
    "print(f\"Type : {tensor3.dtype}\")"
   ]
  },
  {
   "cell_type": "code",
   "execution_count": 71,
   "id": "76ce8289",
   "metadata": {},
   "outputs": [
    {
     "name": "stdout",
     "output_type": "stream",
     "text": [
      "tensor(0)\n",
      "tensor(5)\n",
      "tensor(9)\n"
     ]
    }
   ],
   "source": [
    "# indexing \n",
    "# 1차원 텐서 생성\n",
    "tmp_1dim = torch.tensor([i for i in range(10)])\n",
    "\n",
    "print(tmp_1dim[0])\n",
    "print(tmp_1dim[5])\n",
    "print(tmp_1dim[-1])"
   ]
  },
  {
   "cell_type": "code",
   "execution_count": null,
   "id": "86e5fb85",
   "metadata": {},
   "outputs": [
    {
     "name": "stdout",
     "output_type": "stream",
     "text": [
      "Shape : torch.Size([4, 3, 2])\n",
      "tensor([[[ 0.1034, -2.2368],\n",
      "         [-0.9531,  1.1428],\n",
      "         [-0.8397,  0.2901]],\n",
      "\n",
      "        [[ 0.2857,  1.3905],\n",
      "         [-1.5626,  0.9629],\n",
      "         [ 0.6374, -0.2289]],\n",
      "\n",
      "        [[ 1.0221,  0.6144],\n",
      "         [-1.6259, -1.7859],\n",
      "         [ 0.7424, -0.1931]],\n",
      "\n",
      "        [[-0.9202,  0.1935],\n",
      "         [ 0.5086,  0.1112],\n",
      "         [-1.0196, -0.2406]]])\n",
      "---------------------------------------------\n",
      "torch.Size([4, 3])\n",
      "tensor([[ 0.1034, -0.9531, -0.8397],\n",
      "        [ 0.2857, -1.5626,  0.6374],\n",
      "        [ 1.0221, -1.6259,  0.7424],\n",
      "        [-0.9202,  0.5086, -1.0196]])\n",
      "---------------------------------------------\n",
      "torch.Size([3])\n",
      "tensor([-2.2368,  1.1428,  0.2901])\n"
     ]
    }
   ],
   "source": [
    "# 3차원 텐서에서 indexing \n",
    "tmp_3dim = torch.randn(4, 3, 2)\n",
    "print(\"Shape :\", tmp_3dim.shape)\n",
    "print(tmp_3dim)\n",
    "\n",
    "print(\"---------\"* 5)\n",
    "\n",
    "# 첫 번째 차원(:) : 모든 요소를 다 가져와라\n",
    "# 두 번째 차원(:) : 모든 요소를 다 가져와라\n",
    "# 세 번재 차원(index=0) : 0 번째 요소를 선택해라.\n",
    "print(tmp_3dim[:,:,0].shape)\n",
    "print(tmp_3dim[:,:,0])\n",
    "\n",
    "print(\"---------\"* 5)\n",
    "\n",
    "# 첫 번째 차원(index=0): 0번째 요소를 선택해라.\n",
    "# 두 번째 차원(:) : 모든 요소를 다 가져와라.\n",
    "# 세 번째 차원(index=1): 1번째 요소를 선택해라.\n",
    "print(tmp_3dim[0,:,1].shape)\n",
    "print(tmp_3dim[0,:,1])\n"
   ]
  },
  {
   "cell_type": "code",
   "execution_count": null,
   "id": "9a4435ab",
   "metadata": {},
   "outputs": [
    {
     "name": "stdout",
     "output_type": "stream",
     "text": [
      "tensor([[ 0,  1,  2,  3,  4,  5,  6,  7,  8,  9],\n",
      "        [10, 11, 12, 13, 14, 15, 16, 17, 18, 19]])\n"
     ]
    },
    {
     "data": {
      "text/plain": [
       "tensor([[ 0,  2],\n",
       "        [10, 12]])"
      ]
     },
     "execution_count": 92,
     "metadata": {},
     "output_type": "execute_result"
    }
   ],
   "source": [
    "# index_select : 선택한 차원에서 인덱스에 해당하는 요소만 추출하는 함수\n",
    "# 기본 문법 \n",
    "# index_select(input, dim, index)\n",
    "# dim : 0(행), 1(열), 2(깊이 기준)\n",
    "\n",
    "# 2차원 텐서 생성\n",
    "tmp_2dim = torch.tensor([[i for i in range(10)], [i for i in range(10, 20)]])\n",
    "print(tmp_2dim)\n",
    "\n",
    "\n",
    "# \n",
    "my_index = torch.tensor([0, 2])\n",
    "torch.index_select(tmp_2dim, dim=1, index= my_index)\n"
   ]
  },
  {
   "cell_type": "code",
   "execution_count": null,
   "id": "1822ff36",
   "metadata": {},
   "outputs": [
    {
     "name": "stdout",
     "output_type": "stream",
     "text": [
      "tensor([[False, False, False, False, False,  True,  True,  True,  True,  True],\n",
      "        [ True,  True,  True,  True,  True,  True,  True,  True,  True,  True]])\n",
      "\n",
      "\n"
     ]
    },
    {
     "data": {
      "text/plain": [
       "tensor([ 5,  6,  7,  8,  9, 10, 11, 12, 13, 14, 15, 16, 17, 18, 19])"
      ]
     },
     "execution_count": 95,
     "metadata": {},
     "output_type": "execute_result"
    }
   ],
   "source": [
    "# Masking 을 이용한 indexing: 조건에 따른 텐서의 요소를 사용하기 위한 방법으로 조건에 맞는 요소들만 반환하는 방법\n",
    "# 불리언 텐서로 반환\n",
    "mask = tmp_2dim >= 5\n",
    "print(mask)\n",
    "\n",
    "print(\"\\n\")\n",
    "\n",
    "# mask 적용\n",
    "tmp_2dim[mask]"
   ]
  },
  {
   "cell_type": "code",
   "execution_count": 96,
   "id": "52f1fe5c",
   "metadata": {},
   "outputs": [
    {
     "data": {
      "text/plain": [
       "tensor([ 5,  6,  7,  8,  9, 10, 11, 12, 13, 14, 15, 16, 17, 18, 19])"
      ]
     },
     "execution_count": 96,
     "metadata": {},
     "output_type": "execute_result"
    }
   ],
   "source": [
    "# masked_select : 주어진 mask에 해당하는 요소들을 추출하여 1차원으로 펼친 새로운 텐서를 반환하는 함수\n",
    "# 기본 문법 \n",
    "# torch.masked_select(input, mask)\n",
    "torch.masked_select(tmp_2dim, mask = mask) "
   ]
  },
  {
   "cell_type": "code",
   "execution_count": null,
   "id": "62bb62e5",
   "metadata": {},
   "outputs": [
    {
     "name": "stdout",
     "output_type": "stream",
     "text": [
      "tensor([[ 0,  1,  2,  3,  4,  5,  6,  7,  8,  9],\n",
      "        [10, 11, 12, 13, 14, 15, 16, 17, 18, 19]])\n",
      "\n",
      "\n"
     ]
    },
    {
     "data": {
      "text/plain": [
       "tensor([ 0, 15])"
      ]
     },
     "execution_count": 97,
     "metadata": {},
     "output_type": "execute_result"
    }
   ],
   "source": [
    "# take : 주이진 인덱스를 사용하여 텐서에서 요소를 선택하는 함수. 인덱스 번호는 텐서를 1차원으로 늘려졌을 때 기준으로 접근해야한다.\n",
    "tmp_2dim = torch.tensor([[i for i in range(10)], [i for i in range(10, 20)]])\n",
    "print(tmp_2dim)\n",
    "\n",
    "print(\"\\n\")\n",
    "\n",
    "# tensor가 1차원으로 늘려졌을 때 기준으로 index 번호로 접근\n",
    "my_index = torch.tensor([0, 15])\n",
    "torch.take(tmp_2dim, index = my_index)"
   ]
  },
  {
   "cell_type": "code",
   "execution_count": 102,
   "id": "e15218c7",
   "metadata": {},
   "outputs": [
    {
     "name": "stdout",
     "output_type": "stream",
     "text": [
      "tensor([[ 0,  1,  2,  3,  4,  5,  6,  7,  8,  9],\n",
      "        [10, 11, 12, 13, 14, 15, 16, 17, 18, 19]])\n",
      "\n",
      "\n",
      "tensor([[0, 2],\n",
      "        [5, 3]])\n",
      "\n",
      "\n"
     ]
    },
    {
     "data": {
      "text/plain": [
       "tensor([[ 0,  2],\n",
       "        [15, 13]])"
      ]
     },
     "execution_count": 102,
     "metadata": {},
     "output_type": "execute_result"
    }
   ],
   "source": [
    "# gather : 주어진 차원에서 인덱스에 해당하는 요소들을 선택하여 새로운 텐서를 반환\n",
    "tmp_2dim = torch.tensor([[i for i in range(10)], [i for i in range(10, 20)]])\n",
    "print(tmp_2dim)\n",
    "print(\"\\n\")\n",
    "\n",
    "# 0 번째 값, 2번째 값을 0번째 행으로 설정하고, 5번째 값, 3번째 값을 1번째 행으로 설정한다.\n",
    "recon_index = torch.tensor([[0,2], [5, 3]])\n",
    "print(recon_index)\n",
    "print(\"\\n\")\n",
    "\n",
    "dim = 1 # 열 기준\n",
    "torch.gather(tmp_2dim, dim=dim, index = recon_index)\n"
   ]
  },
  {
   "cell_type": "code",
   "execution_count": null,
   "id": "de96bfed",
   "metadata": {},
   "outputs": [],
   "source": []
  },
  {
   "cell_type": "code",
   "execution_count": null,
   "id": "998db330",
   "metadata": {},
   "outputs": [],
   "source": []
  },
  {
   "cell_type": "code",
   "execution_count": null,
   "id": "dfd06b0c",
   "metadata": {},
   "outputs": [],
   "source": []
  },
  {
   "cell_type": "code",
   "execution_count": null,
   "id": "6d404d12",
   "metadata": {},
   "outputs": [],
   "source": []
  }
 ],
 "metadata": {
  "kernelspec": {
   "display_name": "pytorch_test",
   "language": "python",
   "name": "python3"
  },
  "language_info": {
   "codemirror_mode": {
    "name": "ipython",
    "version": 3
   },
   "file_extension": ".py",
   "mimetype": "text/x-python",
   "name": "python",
   "nbconvert_exporter": "python",
   "pygments_lexer": "ipython3",
   "version": "3.10.18"
  }
 },
 "nbformat": 4,
 "nbformat_minor": 5
}
