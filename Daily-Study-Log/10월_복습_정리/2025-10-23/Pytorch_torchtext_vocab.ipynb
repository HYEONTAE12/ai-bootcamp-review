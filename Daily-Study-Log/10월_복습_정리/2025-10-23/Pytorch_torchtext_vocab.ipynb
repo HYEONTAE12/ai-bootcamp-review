{
 "cells": [
  {
   "cell_type": "markdown",
   "id": "00114e29",
   "metadata": {},
   "source": [
    "from torchtext.vocab import build_vocab_from_iterator\n",
    "\n",
    "# 문장들\n",
    "sentences = [\n",
    "    ['I', 'love', 'PyTorch'],\n",
    "    ['PyTorch', 'is', 'amazing']\n",
    "]\n",
    "\n",
    "# Vocab 생성\n",
    "vocab = build_vocab_from_iterator(sentences)\n",
    "\n",
    "# 1. 단어 → 인덱스\n",
    "print(vocab['PyTorch'])  # 특정 인덱스\n",
    "\n",
    "# 2. 문장 → 인덱스 리스트\n",
    "sentence = ['I', 'love', 'PyTorch']\n",
    "indices = vocab.lookup_indices(sentence)\n",
    "print(indices)  # [2, 3, 0] (예시)\n",
    "\n",
    "# 3. OOV 처리\n",
    "vocab.set_default_index(0)  # 모르는 단어는 0번으로\n",
    "unknown_idx = vocab['unknown_word']\n",
    "print(unknown_idx)  # 0\n",
    "\n",
    "# 4. 전체 단어 목록\n",
    "print(vocab.get_itos())\n",
    "# ['PyTorch', 'is', 'I', 'love', 'amazing']\n",
    "```\n",
    "\n",
    "## 📊 요약표\n",
    "\n",
    "| 메서드 | 기능 | 예시 |\n",
    "|--------|------|------|\n",
    "| `__len__()` | 단어 개수 | `len(vocab)` |\n",
    "| `__contains__()` | 단어 존재 확인 | `'apple' in vocab` |\n",
    "| `__getitem__()` | 단어→인덱스 | `vocab['apple']` |\n",
    "| `lookup_indices()` | 여러 단어→인덱스 | `vocab.lookup_indices(['a', 'b'])` |\n",
    "| `lookup_token()` | 인덱스→단어 | `vocab.lookup_token(0)` |\n",
    "| `lookup_tokens()` | 여러 인덱스→단어 | `vocab.lookup_tokens([0, 1])` |\n",
    "| `get_itos()` | 전체 단어 리스트 | `vocab.get_itos()` |\n",
    "| `get_stoi()` | 단어:인덱스 딕셔너리 | `vocab.get_stoi()` |\n",
    "| `append_token()` | 맨 뒤 추가 | `vocab.append_token('new')` |\n",
    "| `insert_token()` | 특정 위치 삽입 | `vocab.insert_token('new', 1)` |\n",
    "| `set_default_index()` | OOV 기본값 설정 | `vocab.set_default_index(0)` |\n",
    "\n",
    "## 💡 핵심 이해\n",
    "\n",
    "Vocab은 **\"자연어(단어) ↔ 숫자\" 변환기**입니다:\n",
    "```\n",
    "\"I love PyTorch\" → [2, 3, 0] → 신경망 입력"
   ]
  }
 ],
 "metadata": {
  "language_info": {
   "name": "python"
  }
 },
 "nbformat": 4,
 "nbformat_minor": 5
}
