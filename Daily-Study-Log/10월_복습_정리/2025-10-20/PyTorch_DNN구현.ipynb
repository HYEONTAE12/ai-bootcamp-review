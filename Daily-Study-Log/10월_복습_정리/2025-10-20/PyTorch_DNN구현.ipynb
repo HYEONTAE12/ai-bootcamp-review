{
 "cells": [
  {
   "cell_type": "code",
   "execution_count": 1,
   "id": "de2eded4",
   "metadata": {},
   "outputs": [],
   "source": [
    "import matplotlib.pyplot as plt # 데이터 시각화\n",
    "\n",
    "import torch # PyTorch 라이브러리\n",
    "import torch.nn as nn# 모델 구성을 위한 라이브러리\n",
    "from torch.utils.data import DataLoader # optimizer 설정을 위한 라이브러리\n",
    "\n",
    "import torchvision # PyTorch의 컴퓨터 비전 라이브러리\n",
    "import torchvision.transforms as T # 이미지 변환을 위한 모듈\n",
    "import torchvision.utils as vutils #  이미지를 쉽게 처리하기 위한 유틸리티 모듈\n"
   ]
  },
  {
   "cell_type": "code",
   "execution_count": 13,
   "id": "3794a61f",
   "metadata": {},
   "outputs": [],
   "source": [
    "# seed 고정\n",
    "import random\n",
    "import torch.backends.cudnn as cudnn\n",
    "\n",
    "def random_seed(seed_num):\n",
    "    torch.manual_seed(seed_num)\n",
    "    torch.cuda.manual_seed(seed_num)\n",
    "    torch.cuda.manual_seed_all(seed_num)\n",
    "    cudnn.benchmark = False\n",
    "    cudnn.deterministic = True\n",
    "    random.seed(seed_num)\n",
    "\n",
    "random_seed(42)"
   ]
  },
  {
   "cell_type": "code",
   "execution_count": 28,
   "id": "a8edb702",
   "metadata": {},
   "outputs": [],
   "source": [
    "# 데이터를 불러올 때, 필요한 변환(transform)을 정의\n",
    "# T.Compose : 여러 개의 변환을 순서대로 묶어서 적용할 때 사용\n",
    "# T.ToTensor : 이미지를 PyTorch에서 다룰 수 있는 Tensor로 변환\n",
    "mnist_transform = T.Compose([ \n",
    "    T.ToTensor(),\n",
    "])"
   ]
  },
  {
   "cell_type": "code",
   "execution_count": 29,
   "id": "f959411d",
   "metadata": {},
   "outputs": [],
   "source": [
    "# torchvision 라이브러리를 사용하여 MNIST Dataset을 불러오기\n",
    "download_root = ',/MNIST_DATASET'\n",
    "\n",
    "train_dataset = torchvision.datasets.MNIST(download_root, transform=mnist_transform, train= True, download = True)\n",
    "test_dataset = torchvision.datasets.MNIST(download_root, transform=mnist_transform, train= False, download = True)"
   ]
  },
  {
   "cell_type": "code",
   "execution_count": 30,
   "id": "41ea8828",
   "metadata": {},
   "outputs": [
    {
     "name": "stdout",
     "output_type": "stream",
     "text": [
      "torch.Size([1, 28, 28]) 5\n"
     ]
    }
   ],
   "source": [
    "# image의 shape은 [C, H, W]로 구성됨\n",
    "# C (Channel): 채널 수\n",
    "# H (Height) : 이미지의 세로(높이) 픽셀 수\n",
    "# W (Width) : 이미지의 가로(너비) 픽셀 수\n",
    "for image, label in train_dataset:\n",
    "    print(image.shape, label) \n",
    "    break"
   ]
  },
  {
   "cell_type": "code",
   "execution_count": 31,
   "id": "85a65edc",
   "metadata": {},
   "outputs": [
    {
     "name": "stdout",
     "output_type": "stream",
     "text": [
      "Train dataset 개수 : 48000\n",
      "Validation dataset 개수 : 12000\n"
     ]
    }
   ],
   "source": [
    "# train, valid 데이터 셋 나누기\n",
    "total_size = len(train_dataset)\n",
    "train_num, valid_num = int(total_size * 0.8), int(total_size * 0.2)\n",
    "print(f\"Train dataset 개수 : {train_num}\")\n",
    "print(f\"Validation dataset 개수 : {valid_num}\")\n",
    "train_dataset, valid_dataset = torch.utils.data.random_split(train_dataset, [train_num, valid_num])"
   ]
  },
  {
   "cell_type": "code",
   "execution_count": 32,
   "id": "a0fc022f",
   "metadata": {},
   "outputs": [],
   "source": [
    "# DataLoader는 인자로 주어진 Dataset을 이용하여, 단일 데이터들을 정해진 개수만큼 모아 미니 배치를 구성하는 역할\n",
    "batch_size = 32\n",
    "\n",
    "train_dataloader = DataLoader(train_dataset, batch_size = batch_size , shuffle = True) \n",
    "valid_dataloader = DataLoader(valid_dataset, batch_size = batch_size, shuffle = False)\n",
    "test_dataloader = DataLoader(test_dataset, batch_size = batch_size , shuffle = False)\n"
   ]
  },
  {
   "cell_type": "code",
   "execution_count": 35,
   "id": "c1c8bdc1",
   "metadata": {},
   "outputs": [
    {
     "name": "stdout",
     "output_type": "stream",
     "text": [
      "torch.Size([32, 1, 28, 28]) torch.Size([32])\n"
     ]
    }
   ],
   "source": [
    "# 학습 데이터로더에서 일부의 미니 배치 데이터를 가져온다.\n",
    "for images, labels in train_dataloader:\n",
    "    print(images.shape, labels.shape)\n",
    "    break\n"
   ]
  },
  {
   "cell_type": "code",
   "execution_count": 45,
   "id": "afd96042",
   "metadata": {},
   "outputs": [
    {
     "data": {
      "image/png": "[encoded data removed]",
      "text/plain": [
       "<Figure size 1200x1200 with 1 Axes>"
      ]
     },
     "metadata": {},
     "output_type": "display_data"
    }
   ],
   "source": [
    "# 각 행마다 8개의 이미지 배치하여 격자로 구성한다.\n",
    "grid = vutils.make_grid(images, nrow=8)\n",
    "\n",
    "plt.figure(figsize=(12,12))\n",
    "plt.imshow(grid.numpy().transpose((1,2,0)))\n",
    "plt.axis(\"off\")\n",
    "plt.show()"
   ]
  },
  {
   "cell_type": "code",
   "execution_count": null,
   "id": "fb5730c4",
   "metadata": {},
   "outputs": [],
   "source": [
    "# nn.Linear(입력 벡터의 차원 크기, 출력 벡터의 차원 크기, bias = True (편향을 쓸지 여부))\n",
    "# nn.identity() 아무 연산도 하지않는 레이어\n",
    "# nn.BatchNorm1d(num_features = ) # (선형 레이어)나 RNN 출력처럼 (batch_size, features) 형태일 때\n",
    "# nn.BatchNorm2d(num_features = ) CNN의 feature map 처럼 batch_size, channels, height, width 일 때\n",
    "# nn.BatchNorm3d(num_features = ) 3D ConvNet(영상 등)처럼 batch_size, channels, depth, height, width 일 때\n",
    "\n",
    "# 예시 1d\n",
    "bn1d = nn.BatchNorm1d(num_features= 32)\n",
    "x = torch.randn(32, 128) # [batch_sizez, feature]\n",
    "y = bn1d(x)\n",
    "\n",
    "# 예시 2d\n",
    "bn1d = nn.BatchNorm1d(num_features= 64)\n",
    "x = torch.randn(32, 64, 28, 28) # [batch_sizez, channels, height, width]\n",
    "y = bn1d(x)\n",
    "\n",
    "# 예시 3d\n",
    "bn1d = nn.BatchNorm1d(num_features= 16)\n",
    "x = torch.randn(8, 16, 10, 32, 32) # [batch_sizez, channels, depth, height, width]\n",
    "y = bn1d(x)\n",
    "\n",
    "\n"
   ]
  },
  {
   "cell_type": "code",
   "execution_count": null,
   "id": "c6b48eb6",
   "metadata": {},
   "outputs": [],
   "source": [
    "# nn.dropout : PyTorch에서 제공하는 드롭아웃 레이어\n",
    "# 신경망의 일부 뉴련을 확률적으로 0으로 만들어 과적합을 줄이는 정규화\n",
    "\n",
    "# 예시 dropout(ratio)\n",
    "dropout = nn.Dropout(p=0.3) # p 확률값을 정의\n",
    "\n",
    "x = torch.randn(5, 10)\n",
    "\n",
    "dropout.train() # 훈련 모드\n",
    "print(dropout(x)) # 일부 값이 0이 됨\n",
    "\n",
    "dropout.eval()  # 평가 모드\n",
    "print(dropout(x)) # 값이 그대로 나옴"
   ]
  },
  {
   "cell_type": "code",
   "execution_count": null,
   "id": "8c29fee5",
   "metadata": {},
   "outputs": [],
   "source": [
    "# nn.ReLU() : 음수 값은 전부 0 으로 출력하고, 0 보다 높은 값은 그대로 출력한다.\n",
    "# 계산 단순하고, 기울기 소실 문제 완화 -> 양수 영역에서는 기울기가 항상 1이라 학습이 잘 진행됨\n",
    "# 비선형성 추가 -> 모델이 단순 선형 관계를 넘어서 복잡한 패턴을 학습"
   ]
  }
 ],
 "metadata": {
  "kernelspec": {
   "display_name": "pytorch_test",
   "language": "python",
   "name": "python3"
  },
  "language_info": {
   "codemirror_mode": {
    "name": "ipython",
    "version": 3
   },
   "file_extension": ".py",
   "mimetype": "text/x-python",
   "name": "python",
   "nbconvert_exporter": "python",
   "pygments_lexer": "ipython3",
   "version": "3.10.18"
  }
 },
 "nbformat": 4,
 "nbformat_minor": 5
}
