{
 "cells": [
  {
   "cell_type": "code",
   "execution_count": 11,
   "id": "7ee0ff0f",
   "metadata": {},
   "outputs": [],
   "source": [
    "import numpy as np\n",
    "import pandas as pd\n",
    "import matplotlib.pyplot as plt\n",
    "import seaborn as sns\n",
    "\n"
   ]
  },
  {
   "cell_type": "code",
   "execution_count": 3,
   "id": "0f5ba06e",
   "metadata": {},
   "outputs": [],
   "source": [
    "netflix = pd.read_csv(f\"netflix_titles.csv\", encoding='utf-8')"
   ]
  },
  {
   "cell_type": "code",
   "execution_count": 21,
   "id": "ad5ff1a4",
   "metadata": {},
   "outputs": [
    {
     "name": "stdout",
     "output_type": "stream",
     "text": [
      "<class 'pandas.core.frame.DataFrame'>\n",
      "RangeIndex: 8807 entries, 0 to 8806\n",
      "Data columns (total 12 columns):\n",
      " #   Column        Non-Null Count  Dtype \n",
      "---  ------        --------------  ----- \n",
      " 0   show_id       8807 non-null   object\n",
      " 1   type          8807 non-null   object\n",
      " 2   title         8807 non-null   object\n",
      " 3   director      6173 non-null   object\n",
      " 4   cast          7982 non-null   object\n",
      " 5   country       7976 non-null   object\n",
      " 6   date_added    8797 non-null   object\n",
      " 7   release_year  8807 non-null   int64 \n",
      " 8   rating        8803 non-null   object\n",
      " 9   duration      8804 non-null   object\n",
      " 10  listed_in     8807 non-null   object\n",
      " 11  description   8807 non-null   object\n",
      "dtypes: int64(1), object(11)\n",
      "memory usage: 825.8+ KB\n"
     ]
    },
    {
     "ename": "TypeError",
     "evalue": "DataFrame.dropna() takes 1 positional argument but 2 positional arguments (and 2 keyword-only arguments) were given",
     "output_type": "error",
     "traceback": [
      "\u001b[31m---------------------------------------------------------------------------\u001b[39m",
      "\u001b[31mTypeError\u001b[39m                                 Traceback (most recent call last)",
      "\u001b[36mCell\u001b[39m\u001b[36m \u001b[39m\u001b[32mIn[21]\u001b[39m\u001b[32m, line 23\u001b[39m\n\u001b[32m     20\u001b[39m netflix.replace(np.nan, \u001b[33m'\u001b[39m\u001b[33mchar\u001b[39m\u001b[33m'\u001b[39m)\n\u001b[32m     22\u001b[39m \u001b[38;5;66;03m# 결측치 삭제 (axis=0: 행 삭제, axis=1: 열 삭제) inplace=True: 원본 데이터에 저장\u001b[39;00m\n\u001b[32m---> \u001b[39m\u001b[32m23\u001b[39m \u001b[43mnetflix\u001b[49m\u001b[43m.\u001b[49m\u001b[43mdropna\u001b[49m\u001b[43m(\u001b[49m\u001b[33;43m\"\u001b[39;49m\u001b[33;43mdelete values\u001b[39;49m\u001b[33;43m\"\u001b[39;49m\u001b[43m,\u001b[49m\u001b[43m \u001b[49m\u001b[43maxis\u001b[49m\u001b[43m=\u001b[49m\u001b[32;43m0\u001b[39;49m\u001b[43m,\u001b[49m\u001b[43m \u001b[49m\u001b[43minplace\u001b[49m\u001b[43m=\u001b[49m\u001b[38;5;28;43;01mTrue\u001b[39;49;00m\u001b[43m)\u001b[49m\n\u001b[32m     25\u001b[39m \u001b[38;5;66;03m# 고유값 확인\u001b[39;00m\n\u001b[32m     26\u001b[39m netflix[\u001b[33m'\u001b[39m\u001b[33mtype\u001b[39m\u001b[33m'\u001b[39m].unique()\n",
      "\u001b[31mTypeError\u001b[39m: DataFrame.dropna() takes 1 positional argument but 2 positional arguments (and 2 keyword-only arguments) were given"
     ]
    }
   ],
   "source": [
    "# 상위 행 5개 보기\n",
    "netflix.head()\n",
    "\n",
    "# 하위 행 5개 보기\n",
    "netflix.tail()\n",
    "\n",
    "# 결측치, 데이터 타입 확인\n",
    "netflix.info()\n",
    "\n",
    "# 수치형 정보 확인\n",
    "netflix.describe()\n",
    "\n",
    "# 결측치 확인\n",
    "netflix.isnull().sum()\n",
    "\n",
    "# 결측치 채우기ㅏ\n",
    "netflix.fillna('unknown', inplace=True)\n",
    "\n",
    "# 바꾸기\n",
    "netflix.replace(np.nan, 'char')\n",
    "\n",
    "# 결측치 삭제 (axis=0: 행 삭제, axis=1: 열 삭제) inplace=True: 원본 데이터에 저장\n",
    "netflix.dropna(\"delete values\", axis=0, inplace=True)\n",
    "\n",
    "# 고유값 확인\n",
    "netflix['type'].unique()\n",
    "\n"
   ]
  },
  {
   "cell_type": "code",
   "execution_count": null,
   "id": "c80ed6ba",
   "metadata": {},
   "outputs": [
    {
     "name": "stdout",
     "output_type": "stream",
     "text": [
      "director : 29.91%\n",
      "cast : 9.37%\n",
      "country : 9.44%\n",
      "date_added : 0.11%\n",
      "rating : 0.05%\n",
      "duration : 0.03%\n"
     ]
    }
   ],
   "source": [
    "# 결측치 비율 확인\n",
    "for i in netflix.columns:\n",
    "    missingvalues = netflix[i].isna().sum() / len(netflix) * 100\n",
    "    if missingvalues > 0:\n",
    "        print(f\"{i} : {missingvalues:.2f}%\")"
   ]
  },
  {
   "cell_type": "code",
   "execution_count": null,
   "id": "9fd5ec57",
   "metadata": {},
   "outputs": [
    {
     "data": {
      "text/html": [
       "<div>\n",
       "<style scoped>\n",
       "    .dataframe tbody tr th:only-of-type {\n",
       "        vertical-align: middle;\n",
       "    }\n",
       "\n",
       "    .dataframe tbody tr th {\n",
       "        vertical-align: top;\n",
       "    }\n",
       "\n",
       "    .dataframe thead th {\n",
       "        text-align: right;\n",
       "    }\n",
       "</style>\n",
       "<table border=\"1\" class=\"dataframe\">\n",
       "  <thead>\n",
       "    <tr style=\"text-align: right;\">\n",
       "      <th></th>\n",
       "      <th>show_id</th>\n",
       "      <th>type</th>\n",
       "      <th>title</th>\n",
       "      <th>director</th>\n",
       "      <th>cast</th>\n",
       "      <th>country</th>\n",
       "      <th>date_added</th>\n",
       "      <th>release_year</th>\n",
       "      <th>rating</th>\n",
       "      <th>duration</th>\n",
       "      <th>listed_in</th>\n",
       "      <th>description</th>\n",
       "    </tr>\n",
       "  </thead>\n",
       "  <tbody>\n",
       "    <tr>\n",
       "      <th>33</th>\n",
       "      <td>s34</td>\n",
       "      <td>TV Show</td>\n",
       "      <td>Squid Game</td>\n",
       "      <td>NaN</td>\n",
       "      <td>Lee Jung-jae, Park Hae-soo, Wi Ha-jun, Oh Youn...</td>\n",
       "      <td>NaN</td>\n",
       "      <td>September 17, 2021</td>\n",
       "      <td>2021</td>\n",
       "      <td>TV-MA</td>\n",
       "      <td>1 Season</td>\n",
       "      <td>International TV Shows, TV Dramas, TV Thrillers</td>\n",
       "      <td>Hundreds of cash-strapped players accept a str...</td>\n",
       "    </tr>\n",
       "  </tbody>\n",
       "</table>\n",
       "</div>"
      ],
      "text/plain": [
       "   show_id     type       title director  \\\n",
       "33     s34  TV Show  Squid Game      NaN   \n",
       "\n",
       "                                                 cast country  \\\n",
       "33  Lee Jung-jae, Park Hae-soo, Wi Ha-jun, Oh Youn...     NaN   \n",
       "\n",
       "            date_added  release_year rating  duration  \\\n",
       "33  September 17, 2021          2021  TV-MA  1 Season   \n",
       "\n",
       "                                          listed_in  \\\n",
       "33  International TV Shows, TV Dramas, TV Thrillers   \n",
       "\n",
       "                                          description  \n",
       "33  Hundreds of cash-strapped players accept a str...  "
      ]
     },
     "execution_count": 10,
     "metadata": {},
     "output_type": "execute_result"
    }
   ],
   "source": [
    "# query 함수 사용\n",
    "netflix.query(\"title == 'Squid Game'\")\n",
    "\n",
    "# str.contains 함수 사용 지정한 단어가 포함된 행 찾기\n",
    "# na = False : 결측치 무시, case = False : 대소문자 구분 없음\n",
    "netflix(\"title\").str.contains(\"Squid\", na= False , case = False)\n",
    "\n",
    "# true인 값만 출력\n",
    "netflix[netflix['title'].str.contains(\"squid game\", na = False, case = False)]"
   ]
  },
  {
   "cell_type": "code",
   "execution_count": null,
   "id": "bd1d4fbd",
   "metadata": {},
   "outputs": [],
   "source": []
  }
 ],
 "metadata": {
  "kernelspec": {
   "display_name": "py3128",
   "language": "python",
   "name": "python3"
  },
  "language_info": {
   "codemirror_mode": {
    "name": "ipython",
    "version": 3
   },
   "file_extension": ".py",
   "mimetype": "text/x-python",
   "name": "python",
   "nbconvert_exporter": "python",
   "pygments_lexer": "ipython3",
   "version": "3.12.8"
  }
 },
 "nbformat": 4,
 "nbformat_minor": 5
}
