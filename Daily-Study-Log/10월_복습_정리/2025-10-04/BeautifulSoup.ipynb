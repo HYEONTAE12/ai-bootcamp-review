{
 "cells": [
  {
   "cell_type": "code",
   "execution_count": 78,
   "id": "6694929d",
   "metadata": {},
   "outputs": [],
   "source": [
    "from bs4 import BeautifulSoup\n",
    "import requests\n",
    "import pandas as pd"
   ]
  },
  {
   "cell_type": "code",
   "execution_count": 52,
   "id": "dc8cd3e1",
   "metadata": {},
   "outputs": [],
   "source": [
    "# header에 User-Agent 추가 \n",
    "# request가 브라우저에서 온 것처럼 위장\n",
    "headers = {'User-Agent': \"Mozilla/5.0 (Windows NT 10.0; Win64; x64) AppleWebKit/537.36 (KHTML, like Gecko) Chrome/140.0.0.0 Safari/537.36\"}"
   ]
  },
  {
   "cell_type": "code",
   "execution_count": 53,
   "id": "7f71c6cd",
   "metadata": {},
   "outputs": [
    {
     "name": "stdout",
     "output_type": "stream",
     "text": [
      "200\n"
     ]
    }
   ],
   "source": [
    "# Requests\n",
    "# url, headers 전달\n",
    "stock_url = \"https://m.stock.naver.com/domestic/stock/005930/total\"\n",
    "response = requests.get(stock_url, headers=headers)\n",
    "\n",
    "# .status_code: 요청에 대한 http 상태 코드 반환\n",
    "print(response.status_code)"
   ]
  },
  {
   "cell_type": "code",
   "execution_count": 54,
   "id": "b0d3c160",
   "metadata": {},
   "outputs": [],
   "source": [
    "# html을 파이썬에서 읽을 수 있게 파싱 (파이썬 객체로 변환)\n",
    "soup = BeautifulSoup(response.text, 'html.parser')"
   ]
  },
  {
   "cell_type": "code",
   "execution_count": 55,
   "id": "ce6083b6",
   "metadata": {},
   "outputs": [],
   "source": [
    "# soup.select : css 선택자로 원하는 요소들 선택\n",
    "for text in soup.select(\"a.nav\"):\n",
    "    print(text.get_text(strip=True))"
   ]
  },
  {
   "cell_type": "code",
   "execution_count": 56,
   "id": "1e1240d3",
   "metadata": {},
   "outputs": [
    {
     "name": "stdout",
     "output_type": "stream",
     "text": [
      "html\n",
      "\n",
      "\n",
      "<html lang=\"ko\">\n",
      "<head>\n",
      "<meta charset=\"utf-8\"/>\n",
      "<meta content=\"width=device-width,initial-scale=1,maximum-scale=1,minimum-scale=1,user-scalable=no\" name=\"viewport\"/>\n",
      "<meta content=\"삼성전자 - 네이버페이 증권\" property=\"og:title\">\n",
      "<meta content=\"article\" property=\"og:type\"/>\n",
      "<meta content=\"https://m.stock.naver.com/domestic/stock/005930/total\" property=\"og:url\"/>\n",
      "<meta content=\"관심종목의 실시간 주가를 가장 빠르게 확인하는 곳\" property=\"og:description\"/>\n",
      "<meta content=\"https://ssl.pstatic.net/static/m/stock/im/2016/08/og_stock-200.png\" property=\"og:image\"/>\n",
      "<meta content=\"네이버페이증권\" property=\"og:article:author\"/>\n",
      "<meta content=\"https://m.stock.naver.com\" property=\"og:article:author:url\"/>\n",
      "<meta content=\"https://ssl.pstatic.net/static/m/stock/im/2016/08/og_stock-200.png\" property=\"og:article:thumbnailUrl\"/>\n",
      "<title>네이버페이 증권</title>\n",
      "<link href=\"https://ssl.pstatic.net/imgstock/favi/favicon.ico\" rel=\"shortcut icon\"/>\n",
      "<meta content=\"네이버페이 증권\" name=\"apple-mobile-web-app-title\"/>\n",
      "<link href=\"https://ssl.pstatic.net/imgstock/favi/favicon-96x96.png\" rel=\"apple-touch-icon-precomposed\">\n",
      "<link href=\"https://ssl.pstatic.net/imgstock/favi/favicon-180x180.png\" rel=\"apple-touch-icon-precomposed\" sizes=\"180x180\"/>\n",
      "<link href=\"https://ssl.pstatic.net/imgstock/favi/favicon-192x192.png\" rel=\"apple-touch-icon-precomposed\" sizes=\"192x192\"/>\n",
      "<link href=\"https://ssl.pstatic.net/imgstock/favi/favicon-16x16.png\" rel=\"icon\" sizes=\"16x16\" type=\"image/png\"/>\n",
      "<link href=\"https://ssl.pstatic.net/imgstock/favi/favicon-32x32.png\" rel=\"icon\" sizes=\"32x32\" type=\"image/png\"/>\n",
      "<link href=\"https://ssl.pstatic.net/imgstock/favi/favicon-96x96.png\" rel=\"icon\" sizes=\"96x96\" type=\"image/png\"/>\n",
      "<link href=\"https://ssl.pstatic.net/imgstock/favi/favicon-192x192.png\" rel=\"icon\" sizes=\"192x192\" type=\"image/png\"/>\n",
      "<link href=\"https://ssl.pstatic.net/imgstock/stock/build/prod/mobile/20250930175300/static/css/main.39c253cc.css\" rel=\"stylesheet\"/>\n",
      "<script src=\"https://ssl.pstatic.net/tveta/libs/glad/prod/gfp-core.js\" type=\"text/javascript\"></script>\n",
      "<script defer=\"\" src=\"https://ssl.pstatic.net/imgstock/stock/build/prod/mobile/20250930175300/static/js/main.87aaa0e9.js\"></script>\n",
      "</link></meta></head>\n",
      "<body class=\"international\">\n",
      "<div id=\"root\"></div>\n",
      "</body>\n",
      "</html>\n",
      "\n",
      "\n"
     ]
    }
   ],
   "source": [
    "# soup : 문서의 모든 텍스트를 포함한 제일 큰 객체\n",
    "for text in soup:\n",
    "    print(text)"
   ]
  },
  {
   "cell_type": "code",
   "execution_count": 57,
   "id": "49160503",
   "metadata": {},
   "outputs": [
    {
     "name": "stdout",
     "output_type": "stream",
     "text": [
      "html\n",
      "\n",
      "\n",
      "<html lang=\"ko\">\n",
      "<head>\n",
      "<meta charset=\"utf-8\"/>\n",
      "<meta content=\"width=device-width,initial-scale=1,maximum-scale=1,minimum-scale=1,user-scalable=no\" name=\"viewport\"/>\n",
      "<meta content=\"삼성전자 - 네이버페이 증권\" property=\"og:title\">\n",
      "<meta content=\"article\" property=\"og:type\"/>\n",
      "<meta content=\"https://m.stock.naver.com/domestic/stock/005930/total\" property=\"og:url\"/>\n",
      "<meta content=\"관심종목의 실시간 주가를 가장 빠르게 확인하는 곳\" property=\"og:description\"/>\n",
      "<meta content=\"https://ssl.pstatic.net/static/m/stock/im/2016/08/og_stock-200.png\" property=\"og:image\"/>\n",
      "<meta content=\"네이버페이증권\" property=\"og:article:author\"/>\n",
      "<meta content=\"https://m.stock.naver.com\" property=\"og:article:author:url\"/>\n",
      "<meta content=\"https://ssl.pstatic.net/static/m/stock/im/2016/08/og_stock-200.png\" property=\"og:article:thumbnailUrl\"/>\n",
      "<title>네이버페이 증권</title>\n",
      "<link href=\"https://ssl.pstatic.net/imgstock/favi/favicon.ico\" rel=\"shortcut icon\"/>\n",
      "<meta content=\"네이버페이 증권\" name=\"apple-mobile-web-app-title\"/>\n",
      "<link href=\"https://ssl.pstatic.net/imgstock/favi/favicon-96x96.png\" rel=\"apple-touch-icon-precomposed\">\n",
      "<link href=\"https://ssl.pstatic.net/imgstock/favi/favicon-180x180.png\" rel=\"apple-touch-icon-precomposed\" sizes=\"180x180\"/>\n",
      "<link href=\"https://ssl.pstatic.net/imgstock/favi/favicon-192x192.png\" rel=\"apple-touch-icon-precomposed\" sizes=\"192x192\"/>\n",
      "<link href=\"https://ssl.pstatic.net/imgstock/favi/favicon-16x16.png\" rel=\"icon\" sizes=\"16x16\" type=\"image/png\"/>\n",
      "<link href=\"https://ssl.pstatic.net/imgstock/favi/favicon-32x32.png\" rel=\"icon\" sizes=\"32x32\" type=\"image/png\"/>\n",
      "<link href=\"https://ssl.pstatic.net/imgstock/favi/favicon-96x96.png\" rel=\"icon\" sizes=\"96x96\" type=\"image/png\"/>\n",
      "<link href=\"https://ssl.pstatic.net/imgstock/favi/favicon-192x192.png\" rel=\"icon\" sizes=\"192x192\" type=\"image/png\"/>\n",
      "<link href=\"https://ssl.pstatic.net/imgstock/stock/build/prod/mobile/20250930175300/static/css/main.39c253cc.css\" rel=\"stylesheet\"/>\n",
      "<script src=\"https://ssl.pstatic.net/tveta/libs/glad/prod/gfp-core.js\" type=\"text/javascript\"></script>\n",
      "<script defer=\"\" src=\"https://ssl.pstatic.net/imgstock/stock/build/prod/mobile/20250930175300/static/js/main.87aaa0e9.js\"></script>\n",
      "</link></meta></head>\n",
      "<body class=\"international\">\n",
      "<div id=\"root\"></div>\n",
      "</body>\n",
      "</html>\n",
      "\n",
      "\n"
     ]
    }
   ],
   "source": [
    "# soup.contents : 자식 노드들을 리스트로 반환\n",
    "for text in soup.contents:\n",
    "    print(text)"
   ]
  },
  {
   "cell_type": "code",
   "execution_count": 58,
   "id": "12c68ecb",
   "metadata": {},
   "outputs": [
    {
     "name": "stdout",
     "output_type": "stream",
     "text": [
      "네이버페이 증권\n"
     ]
    }
   ],
   "source": [
    "# soup.strippend_strings : 공백과 함께 제거하여 텍스트로 반환\n",
    "for text in soup.stripped_strings:\n",
    "    print(text)"
   ]
  },
  {
   "cell_type": "code",
   "execution_count": null,
   "id": "a65b6212",
   "metadata": {},
   "outputs": [],
   "source": [
    "# html 요소에서 class 이름이 'class_name'인 요소를 찾아서 가져오기\n",
    "scraping = soup.find(title=\"NAVER\") \n",
    "\n",
    "# 조건에 해당하는 모든 요소를 리스트로 반환\n",
    "scraping1 = soup.find_all(\"a\")\n",
    "\n",
    "# 태그 내부의 텍스트만 출력\n",
    "scraping.text"
   ]
  },
  {
   "cell_type": "code",
   "execution_count": 40,
   "id": "14cc0ee9",
   "metadata": {},
   "outputs": [
    {
     "name": "stdout",
     "output_type": "stream",
     "text": [
      "<!DOCTYPE html>\n",
      "\n",
      "<html lang=\"ko\">\n",
      "<head>\n",
      "<meta charset=\"utf-8\"/>\n",
      "<meta content=\"width=device-width,initial-scale=1,maximum-scale=1,minimum-scale=1,user-scalable=no\" name=\"viewport\"/>\n",
      "<meta content=\"삼성전자 - 네이버페이 증권\" property=\"og:title\">\n",
      "<meta content=\"article\" property=\"og:type\"/>\n",
      "<meta content=\"https://m.stock.naver.com/domestic/stock/005930/total\" property=\"og:url\"/>\n",
      "<meta content=\"관심종목의 실시간 주가를 가장 빠르게 확인하는 곳\" property=\"og:description\"/>\n",
      "<meta content=\"https://ssl.pstatic.net/static/m/stock/im/2016/08/og_stock-200.png\" property=\"og:image\"/>\n",
      "<meta content=\"네이버페이증권\" property=\"og:article:author\"/>\n",
      "<meta content=\"https://m.stock.naver.com\" property=\"og:article:author:url\"/>\n",
      "<meta content=\"https://ssl.pstatic.net/static/m/stock/im/2016/08/og_stock-200.png\" property=\"og:article:thumbnailUrl\"/>\n",
      "<title>네이버페이 증권</title>\n",
      "<link href=\"https://ssl.pstatic.net/imgstock/favi/favicon.ico\" rel=\"shortcut icon\"/>\n",
      "<meta content=\"네이버페이 증권\" name=\"apple-mobile-web-app-title\"/>\n",
      "<link href=\"https://ssl.pstatic.net/imgstock/favi/favicon-96x96.png\" rel=\"apple-touch-icon-precomposed\">\n",
      "<link href=\"https://ssl.pstatic.net/imgstock/favi/favicon-180x180.png\" rel=\"apple-touch-icon-precomposed\" sizes=\"180x180\"/>\n",
      "<link href=\"https://ssl.pstatic.net/imgstock/favi/favicon-192x192.png\" rel=\"apple-touch-icon-precomposed\" sizes=\"192x192\"/>\n",
      "<link href=\"https://ssl.pstatic.net/imgstock/favi/favicon-16x16.png\" rel=\"icon\" sizes=\"16x16\" type=\"image/png\"/>\n",
      "<link href=\"https://ssl.pstatic.net/imgstock/favi/favicon-32x32.png\" rel=\"icon\" sizes=\"32x32\" type=\"image/png\"/>\n",
      "<link href=\"https://ssl.pstatic.net/imgstock/favi/favicon-96x96.png\" rel=\"icon\" sizes=\"96x96\" type=\"image/png\"/>\n",
      "<link href=\"https://ssl.pstatic.net/imgstock/favi/favicon-192x192.png\" rel=\"icon\" sizes=\"192x192\" type=\"image/png\"/>\n",
      "<link href=\"https://ssl.pstatic.net/imgstock/stock/build/prod/mobile/20250930175300/static/css/main.39c253cc.css\" rel=\"stylesheet\"/>\n",
      "<script src=\"https://ssl.pstatic.net/tveta/libs/glad/prod/gfp-core.js\" type=\"text/javascript\"></script>\n",
      "<script defer=\"\" src=\"https://ssl.pstatic.net/imgstock/stock/build/prod/mobile/20250930175300/static/js/main.87aaa0e9.js\"></script>\n",
      "</link></meta></head>\n",
      "<body class=\"international\">\n",
      "<div id=\"root\"></div>\n",
      "</body>\n",
      "</html>\n",
      "\n"
     ]
    }
   ],
   "source": [
    "def stock(code):\n",
    "    html = requests.get(f\"https://m.stock.naver.com/domestic/stock/{code}/total\")\n",
    "    soup = BeautifulSoup(html.text, 'html.parser')\n",
    "    return soup\n",
    "\n",
    "text = stock(\"005930\")\n",
    "print(text)"
   ]
  },
  {
   "cell_type": "code",
   "execution_count": 86,
   "id": "06de853a",
   "metadata": {},
   "outputs": [
    {
     "name": "stdout",
     "output_type": "stream",
     "text": [
      "      0           1       2\n",
      "0     1  2025.10.02  89,000\n",
      "1     1  2025.10.01  86,000\n",
      "2     1  2025.09.30  83,900\n",
      "3     1  2025.09.29  84,200\n",
      "4     1  2025.09.26  83,300\n",
      "..   ..         ...     ...\n",
      "195  20  2024.12.13  56,100\n",
      "196  20  2024.12.12  55,900\n",
      "197  20  2024.12.11  54,000\n",
      "198  20  2024.12.10  54,000\n",
      "199  20  2024.12.09  53,400\n",
      "\n",
      "[200 rows x 3 columns]\n"
     ]
    }
   ],
   "source": [
    "df = pd.DataFrame(columns=[\"page\", \"날짜\", \"종가\"])\n",
    "\n",
    "# 200일 동안의 일별 종가 정보 가져오기\n",
    "def get_price(code: str) -> list[tuple[int,str, str]]:\n",
    "    result = []\n",
    "    for page in range(1, 21):\n",
    "        # 가져올 url 생성\n",
    "        stock_url = f\"https://finance.naver.com/item/sise_day.naver?code={code}\" + '&page=' + str(page)\n",
    "\n",
    "        # headers 설정\n",
    "        headers = {'User-Agent': \"Mozilla/5.0 (Windows NT 10.0; Win64; x64) AppleWebKit/537.36 (KHTML, like Gecko) Chrome/140.0.0.0 Safari/537.36\"}\n",
    "\n",
    "        # requests로 url 가져오기\n",
    "        response = requests.get(stock_url, headers=headers)\n",
    "        \n",
    "        # 200이 아니면 실패\n",
    "        if response.status_code != 200:\n",
    "            print(\"페이지 불러오기 실패\")\n",
    "            return result\n",
    "        \n",
    "        # BeautifulSoup으로 html 파싱\n",
    "        soup = BeautifulSoup(response.text, 'html.parser')\n",
    "\n",
    "        # \"tr\" 태그 조건에 해당하는 모든 요소를 리스트롤 반환\n",
    "        rows = soup.select(\"table.type2 tr\")\n",
    "        \n",
    "        for tr in rows:\n",
    "            tds = tr.find_all(\"td\")\n",
    "            if len(tds) < 7:\n",
    "                continue\n",
    "            date = tds[0].get_text(strip=True) \n",
    "            close = tds[1].get_text(strip=True) \n",
    "            if date and close:\n",
    "                result.append((page, date, close))\n",
    "\n",
    "    df = pd.DataFrame(result)\n",
    "    return df\n",
    "\n",
    "def stock_print(code: str):\n",
    "    return get_price(code)\n",
    "\n",
    "if __name__ == \"__main__\":\n",
    "    df = stock_print(\"005930\")\n",
    "    print(df)\n",
    "        \n",
    "\n",
    "\n",
    "    "
   ]
  },
  {
   "cell_type": "code",
   "execution_count": null,
   "id": "80efdf63",
   "metadata": {},
   "outputs": [],
   "source": []
  }
 ],
 "metadata": {
  "kernelspec": {
   "display_name": "py3128",
   "language": "python",
   "name": "python3"
  },
  "language_info": {
   "codemirror_mode": {
    "name": "ipython",
    "version": 3
   },
   "file_extension": ".py",
   "mimetype": "text/x-python",
   "name": "python",
   "nbconvert_exporter": "python",
   "pygments_lexer": "ipython3",
   "version": "3.12.8"
  }
 },
 "nbformat": 4,
 "nbformat_minor": 5
}
