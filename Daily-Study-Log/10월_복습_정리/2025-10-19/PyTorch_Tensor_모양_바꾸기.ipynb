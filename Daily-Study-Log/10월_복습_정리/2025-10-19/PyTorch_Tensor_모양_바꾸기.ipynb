{
 "cells": [
  {
   "cell_type": "code",
   "execution_count": 1,
   "id": "723c9cc9",
   "metadata": {},
   "outputs": [],
   "source": [
    "import torch\n",
    "import numpy as np\n",
    "import warnings\n",
    "warnings.filterwarnings('ignore')"
   ]
  },
  {
   "cell_type": "code",
   "execution_count": 2,
   "id": "3dd12b7c",
   "metadata": {},
   "outputs": [
    {
     "name": "stdout",
     "output_type": "stream",
     "text": [
      "2.5.1\n",
      "12.4\n",
      "True\n"
     ]
    }
   ],
   "source": [
    "print(torch.__version__)\n",
    "print(torch.version.cuda)\n",
    "print(torch.cuda.is_available())"
   ]
  },
  {
   "cell_type": "code",
   "execution_count": 7,
   "id": "bdc4ab58",
   "metadata": {},
   "outputs": [
    {
     "name": "stdout",
     "output_type": "stream",
     "text": [
      "size()\n",
      "torch.Size([2, 3, 5])\n",
      "------------------------------\n",
      "shape\n"
     ]
    },
    {
     "data": {
      "text/plain": [
       "torch.Size([2, 3, 5])"
      ]
     },
     "execution_count": 7,
     "metadata": {},
     "output_type": "execute_result"
    }
   ],
   "source": [
    "# size : 텐서의 모양을 확인한다.\n",
    "a = torch.randn(2,3,5)\n",
    "\n",
    "# size () \n",
    "print(\"size()\")\n",
    "print(a.size())\n",
    "\n",
    "print(\"---\" * 10)\n",
    "\n",
    "# shape\n",
    "# 기능은 동일하다.\n",
    "print(\"shape\")\n",
    "a.shape"
   ]
  },
  {
   "cell_type": "code",
   "execution_count": 8,
   "id": "3596c8c1",
   "metadata": {},
   "outputs": [
    {
     "name": "stdout",
     "output_type": "stream",
     "text": [
      "tensor([[[ 1.1270,  2.2312,  1.2686, -0.2654, -1.2141],\n",
      "         [ 0.2140,  1.7289,  0.2690, -0.1020, -0.5414],\n",
      "         [ 2.0980, -0.9511, -1.1540,  0.6920, -0.3194]],\n",
      "\n",
      "        [[ 0.6923,  1.5399,  0.1340,  0.8492, -0.3098],\n",
      "         [ 1.3126, -0.0884, -0.2800,  0.1481,  1.8477],\n",
      "         [-0.3008,  0.0877,  0.6327,  0.8493, -0.4106]]])\n",
      "Shape : torch.Size([2, 3, 5])\n",
      "\n",
      "\n",
      "tensor([[ 1.1270,  2.2312,  1.2686, -0.2654, -1.2141,  0.2140],\n",
      "        [ 1.7289,  0.2690, -0.1020, -0.5414,  2.0980, -0.9511],\n",
      "        [-1.1540,  0.6920, -0.3194,  0.6923,  1.5399,  0.1340],\n",
      "        [ 0.8492, -0.3098,  1.3126, -0.0884, -0.2800,  0.1481],\n",
      "        [ 1.8477, -0.3008,  0.0877,  0.6327,  0.8493, -0.4106]])\n",
      "Shape : torch.Size([5, 6])\n"
     ]
    }
   ],
   "source": [
    "# reshape : 텐서의 모양을 변경합니다. 메모리를 공유하지 않습니다.\n",
    "\n",
    "\n",
    "# 모양 확인\n",
    "a = torch.randn(2, 3, 5)\n",
    "print(a)\n",
    "print(f\"Shape : {a.size()}\")\n",
    "print(\"\\n\")\n",
    "\n",
    "\n",
    "# 모양 변경\n",
    "# 3차원 텐서를 2차원 텐서로 크기 변경 (2,3,5) -> (5,6)\n",
    "reshape_a = a.reshape(5,6) \n",
    "print(reshape_a)\n",
    "print(f\"Shape : {reshape_a.shape}\")"
   ]
  },
  {
   "cell_type": "code",
   "execution_count": null,
   "id": "b22a8101",
   "metadata": {},
   "outputs": [
    {
     "name": "stdout",
     "output_type": "stream",
     "text": [
      "tensor([[[ 1.1270,  2.2312,  1.2686, -0.2654, -1.2141],\n",
      "         [ 0.2140,  1.7289,  0.2690, -0.1020, -0.5414],\n",
      "         [ 2.0980, -0.9511, -1.1540,  0.6920, -0.3194]],\n",
      "\n",
      "        [[ 0.6923,  1.5399,  0.1340,  0.8492, -0.3098],\n",
      "         [ 1.3126, -0.0884, -0.2800,  0.1481,  1.8477],\n",
      "         [-0.3008,  0.0877,  0.6327,  0.8493, -0.4106]]])\n",
      "Shape : torch.Size([2, 3, 5])\n",
      "\n",
      "\n",
      "tensor([[ 1.1270,  2.2312,  1.2686, -0.2654, -1.2141,  0.2140],\n",
      "        [ 1.7289,  0.2690, -0.1020, -0.5414,  2.0980, -0.9511],\n",
      "        [-1.1540,  0.6920, -0.3194,  0.6923,  1.5399,  0.1340],\n",
      "        [ 0.8492, -0.3098,  1.3126, -0.0884, -0.2800,  0.1481],\n",
      "        [ 1.8477, -0.3008,  0.0877,  0.6327,  0.8493, -0.4106]])\n",
      "Shape : torch.Size([5, 6])\n"
     ]
    }
   ],
   "source": [
    "# view: 텐서의 모양을 변경합니다.\n",
    "# 연속 메모리: 데이터가 일렬로 차곡차곡 붙어 저장된 상태 → view() 가능\n",
    "# 비연속 메모리: 전치, 슬라이싱 등으로 메모리 순서가 뒤틀린 상태 → view() 불가, reshape() \n",
    "# 또는 .contiguous() 필요\n",
    "\n",
    "print(a)\n",
    "print(f\"Shape : {a.size()}\")\n",
    "print(\"\\n\")\n",
    "\n",
    "view_a = a.view(5,6)\n",
    "print(view_a)\n",
    "print(f\"Shape : {view_a.size()}\")"
   ]
  },
  {
   "cell_type": "code",
   "execution_count": 22,
   "id": "a032d0ea",
   "metadata": {},
   "outputs": [
    {
     "name": "stdout",
     "output_type": "stream",
     "text": [
      "tensor([[[9, 8, 3, 1, 2],\n",
      "         [2, 8, 3, 9, 9]],\n",
      "\n",
      "        [[8, 3, 2, 2, 4],\n",
      "         [3, 2, 6, 5, 1]],\n",
      "\n",
      "        [[3, 5, 5, 3, 6],\n",
      "         [9, 9, 9, 3, 8]]])\n",
      "Shape : torch.Size([3, 2, 5])\n",
      "\n",
      "\n",
      "tensor([[[9, 8, 3, 1, 2],\n",
      "         [8, 3, 2, 2, 4],\n",
      "         [3, 5, 5, 3, 6]],\n",
      "\n",
      "        [[2, 8, 3, 9, 9],\n",
      "         [3, 2, 6, 5, 1],\n",
      "         [9, 9, 9, 3, 8]]])\n",
      "Shape : torch.Size([2, 3, 5])\n"
     ]
    }
   ],
   "source": [
    "# transpose : 텐서의 차원을 전치합니다.\n",
    "\n",
    "# int 형식 구간 지정 텐서 생성\n",
    "tensor_a = torch.randint(1, 10,(3,2,5))\n",
    "print(tensor_a)\n",
    "print(f\"Shape : {tensor_a.size()}\")\n",
    "print(\"\\n\")\n",
    "\n",
    "# (3,2,5) 를 (2,3,5) 의 크기로 변경\n",
    "# 행과 열을 서로 전치, 서로 전치할 차원 2개를 지정\n",
    "trans_a = tensor_a.transpose(0,1)\n",
    "print(trans_a)\n",
    "print(f\"Shape : {trans_a.size()}\")\n",
    "\n",
    "\n",
    "\n",
    "\n",
    "\n",
    "\n"
   ]
  },
  {
   "cell_type": "code",
   "execution_count": null,
   "id": "19835509",
   "metadata": {},
   "outputs": [
    {
     "name": "stdout",
     "output_type": "stream",
     "text": [
      "tensor([[[9, 8, 3, 1, 2],\n",
      "         [2, 8, 3, 9, 9]],\n",
      "\n",
      "        [[8, 3, 2, 2, 4],\n",
      "         [3, 2, 6, 5, 1]],\n",
      "\n",
      "        [[3, 5, 5, 3, 6],\n",
      "         [9, 9, 9, 3, 8]]])\n",
      "Shape : torch.Size([3, 2, 5])\n",
      "\n",
      "\n",
      "tensor([[[9, 2],\n",
      "         [8, 3],\n",
      "         [3, 9]],\n",
      "\n",
      "        [[8, 8],\n",
      "         [3, 2],\n",
      "         [5, 9]],\n",
      "\n",
      "        [[3, 3],\n",
      "         [2, 6],\n",
      "         [5, 9]],\n",
      "\n",
      "        [[1, 9],\n",
      "         [2, 5],\n",
      "         [3, 3]],\n",
      "\n",
      "        [[2, 9],\n",
      "         [4, 1],\n",
      "         [6, 8]]])\n",
      "Shape : torch.Size([5, 3, 2])\n"
     ]
    }
   ],
   "source": [
    "# permute : 텐서 차원의 순서를 재배열합니다.\n",
    "print(tensor_a)\n",
    "print(f\"Shape : {tensor_a.size()}\")\n",
    "print(\"\\n\")\n",
    "\n",
    "# 1 번째 차원을 2 번째 차원으로\n",
    "# 2 번째 차원을 3 번째 차원으로\n",
    "# 3 번째 차원을 1 번째 차원으로  \n",
    "permute_a = tensor_a.permute(2,0,1) \n",
    "print(permute_a)\n",
    "print(f\"Shape : {permute_a.size()}\")"
   ]
  },
  {
   "cell_type": "code",
   "execution_count": null,
   "id": "bda29227",
   "metadata": {},
   "outputs": [
    {
     "name": "stdout",
     "output_type": "stream",
     "text": [
      "tensor([[0, 1],\n",
      "        [2, 3],\n",
      "        [4, 5],\n",
      "        [6, 7],\n",
      "        [8, 9]])\n",
      "Shape : torch.Size([5, 2])\n",
      "\n",
      "\n",
      "tensor([[[0, 1],\n",
      "         [2, 3],\n",
      "         [4, 5],\n",
      "         [6, 7],\n",
      "         [8, 9]]])\n",
      "Shape : torch.Size([1, 5, 2])\n"
     ]
    }
   ],
   "source": [
    "# unsqueeze : 텐서에 특정 차원에 크기가 1인 차원을 추가합니다.\n",
    "tensor_a = torch.tensor([i for i in range(10)]).reshape(5,2)\n",
    "print(tensor_a)\n",
    "print(f\"Shape : {tensor_a.size()}\")\n",
    "print(\"\\n\")\n",
    "\n",
    "# 0 번째 차원 하나 추가 (5, 2) -> (1, 5 ,2)\n",
    "# -1 전달 시 마지막에 차원 추가\n",
    "unsqu_a = tensor_a.unsqueeze(0)\n",
    "print(unsqu_a)\n",
    "print(f\"Shape : {unsqu_a.size()}\")\n"
   ]
  },
  {
   "cell_type": "code",
   "execution_count": null,
   "id": "e2b6240d",
   "metadata": {},
   "outputs": [
    {
     "name": "stdout",
     "output_type": "stream",
     "text": [
      "tensor([[[0, 1],\n",
      "         [2, 3],\n",
      "         [4, 5],\n",
      "         [6, 7],\n",
      "         [8, 9]]])\n",
      "Shape : torch.Size([1, 5, 2])\n",
      "\n",
      "\n",
      "tensor([[0, 1],\n",
      "        [2, 3],\n",
      "        [4, 5],\n",
      "        [6, 7],\n",
      "        [8, 9]])\n",
      "Shape : torch.Size([5, 2])\n",
      "--------------------------------------------------\n",
      "Shape : torch.Size([2, 1, 2, 1, 2])\n",
      "\n",
      "\n",
      "Shape : torch.Size([2, 2, 2])\n",
      "\n",
      "\n",
      "Shape : torch.Size([2, 1, 2, 1, 2])\n",
      "\n",
      "\n",
      "Shape : torch.Size([2, 2, 1, 2])\n",
      "\n",
      "\n",
      "Shape : torch.Size([2, 2, 2])\n"
     ]
    }
   ],
   "source": [
    "# squeeze : 텐서에 차원이 크기가 1인 차원을 제거한다.\n",
    "print(unsqu_a)\n",
    "print(f\"Shape : {unsqu_a.size()}\")\n",
    "print(\"\\n\") \n",
    "\n",
    "# 차원이 1인 차원을 제거\n",
    "squ = unsqu_a.squeeze()\n",
    "print(squ)\n",
    "print(f\"Shape : {squ.size()}\")\n",
    "\n",
    "\n",
    "print(\"-----\" * 10)\n",
    "\n",
    "# 모든 원소가 0인 5차원 크기의 텐서\n",
    "x = torch.zeros(2,1,2,1,2) \n",
    "print(f\"Shape : {x.size()}\")\n",
    "print(\"\\n\")\n",
    "\n",
    "# 차원이 1인 차원이 여러개일 때, 모든 차원이 1인 차원 제거\n",
    "print(f\"Shape : {x.squeeze().size()}\")\n",
    "print(\"\\n\")\n",
    "\n",
    "# 0 번째 차원의 크기가 1일 경우 삭제 / 크기가 1이 아니기에 변화 없음.\n",
    "print(f\"Shape : {x.squeeze(0).size()}\")\n",
    "print(\"\\n\")\n",
    "\n",
    "# 1 번째 차원의 크기가 1일 경우 삭제 \n",
    "print(f\"Shape : {x.squeeze(1).size()}\")\n",
    "print('\\n')\n",
    "\n",
    "# 여러 차원 제거 가능 \n",
    "print(f\"Shape : {x.squeeze((0,1,3)).size()}\")"
   ]
  },
  {
   "cell_type": "code",
   "execution_count": null,
   "id": "02e7e316",
   "metadata": {},
   "outputs": [
    {
     "name": "stdout",
     "output_type": "stream",
     "text": [
      "tensor([1, 2, 3, 4])\n",
      "Shape : torch.Size([4])\n",
      "\n",
      "\n",
      "tensor([[1, 2, 3, 4],\n",
      "        [1, 2, 3, 4],\n",
      "        [1, 2, 3, 4]])\n",
      "Shape : torch.Size([3, 4])\n"
     ]
    }
   ],
   "source": [
    "# expand : 텐서의 값을 반복하여 크기를 확장합니다.\n",
    "# 원본 텐서와 메모리를 공유\n",
    "# A 텐서가 1차원일 경우 : A 텐서의 크기가 (m,) 이면 m은 고정하고(x,m)의 크기로만 확장 가능\n",
    "# A 텐서가 2차원 이상일 경우 : 크기가 1인 차원에 대해서만 적용 가능. \n",
    "\n",
    "tensor_1dim = torch.tensor([1,2,3,4])\n",
    "print(tensor_1dim)\n",
    "print(f\"Shape : {tensor_1dim.size()}\")\n",
    "print('\\n')\n",
    "\n",
    "# (m,) 값은 고정한 상태로 (3,4) 크기로 확장\n",
    "expand_tensor = tensor_1dim.expand(3, 4)\n",
    "print(expand_tensor)\n",
    "print(f\"Shape : {expand_tensor.size()}\")\n"
   ]
  },
  {
   "cell_type": "code",
   "execution_count": null,
   "id": "060b8574",
   "metadata": {},
   "outputs": [
    {
     "name": "stdout",
     "output_type": "stream",
     "text": [
      "tensor([1, 2, 3, 4])\n",
      "Shape : torch.Size([4])\n",
      "\n",
      "\n",
      "tensor([[1, 2, 3, 4, 1, 2, 3, 4, 1, 2, 3, 4, 1, 2, 3, 4],\n",
      "        [1, 2, 3, 4, 1, 2, 3, 4, 1, 2, 3, 4, 1, 2, 3, 4],\n",
      "        [1, 2, 3, 4, 1, 2, 3, 4, 1, 2, 3, 4, 1, 2, 3, 4]])\n",
      "Shape : torch.Size([3, 16])\n"
     ]
    }
   ],
   "source": [
    "# repeat : 텐서를 반복하여 크기를 확장한다.\n",
    "# 원본 텐서와 메모리를 공유하지 않는다.\n",
    "# A 텐서가 (m,n) 크기를 가진다하고, A 텐서를 repeat(i,j)를 하면 결과값으로 (m * i , n * j)\n",
    "# 크기의 텐서가 생성된다.\n",
    "\n",
    "tensor_1dim = torch.tensor([1,2,3,4])\n",
    "print(tensor_1dim)\n",
    "print(f\"Shape : {tensor_1dim.size()}\")\n",
    "print('\\n')\n",
    "\n",
    "# repeat / tensor_1dim 자체를 행으로 3번 반복, 열로 4번 반복\n",
    "repeat_tensor = tensor_1dim.repeat(3,4)\n",
    "print(repeat_tensor)\n",
    "print(f\"Shape : {repeat_tensor.size()}\")\n"
   ]
  },
  {
   "cell_type": "code",
   "execution_count": 43,
   "id": "689d6721",
   "metadata": {},
   "outputs": [
    {
     "name": "stdout",
     "output_type": "stream",
     "text": [
      "tensor([[[ 0,  1],\n",
      "         [ 2,  3],\n",
      "         [ 4,  5],\n",
      "         [ 6,  7],\n",
      "         [ 8,  9]],\n",
      "\n",
      "        [[10, 11],\n",
      "         [12, 13],\n",
      "         [14, 15],\n",
      "         [16, 17],\n",
      "         [18, 19]]])\n",
      "Shape : torch.Size([2, 5, 2])\n",
      "\n",
      "\n",
      "tensor([ 0,  1,  2,  3,  4,  5,  6,  7,  8,  9, 10, 11, 12, 13, 14, 15, 16, 17,\n",
      "        18, 19])\n",
      "Shape : torch.Size([20])\n",
      "------------------------------------------------------------\n",
      "tensor([[ 0,  1,  2,  3,  4,  5,  6,  7,  8,  9],\n",
      "        [10, 11, 12, 13, 14, 15, 16, 17, 18, 19]])\n",
      "Shape : torch.Size([2, 10])\n"
     ]
    }
   ],
   "source": [
    "# flatten : 다차원 텐서를 1차원 텐서로 변경한다.\n",
    "\n",
    "t = torch.tensor([[i for i in range(20)]]).reshape(2,5,2)\n",
    "print(t)\n",
    "print(f\"Shape : {t.size()}\")\n",
    "print('\\n')\n",
    "\n",
    "# flatten (2,5,2) 의 tensor를 (20,)로 모양 변경, 1차원으로 변경\n",
    "flat_tensor = t.flatten()\n",
    "print(flat_tensor)\n",
    "print(f\"Shape : {flat_tensor.size()}\")\n",
    "\n",
    "\n",
    "print(\"------\" *10)\n",
    "\n",
    "# start_dim : flatten을 시작할 차원을 지정, 지정한 차원 이후로 모든 차원을 하나의 차원으로 평면화\n",
    "# default = 0 (1차원)\n",
    "flat_tensor2 = t.flatten(start_dim=1)\n",
    "print(flat_tensor2)\n",
    "print(f\"Shape : {flat_tensor2.size()}\")\n"
   ]
  },
  {
   "cell_type": "code",
   "execution_count": 44,
   "id": "9fef8661",
   "metadata": {},
   "outputs": [
    {
     "name": "stdout",
     "output_type": "stream",
     "text": [
      "tensor([[[ 0,  1],\n",
      "         [ 2,  3],\n",
      "         [ 4,  5],\n",
      "         [ 6,  7],\n",
      "         [ 8,  9]],\n",
      "\n",
      "        [[10, 11],\n",
      "         [12, 13],\n",
      "         [14, 15],\n",
      "         [16, 17],\n",
      "         [18, 19]]])\n",
      "Shape : torch.Size([2, 5, 2])\n",
      "\n",
      "\n",
      "tensor([ 0,  1,  2,  3,  4,  5,  6,  7,  8,  9, 10, 11, 12, 13, 14, 15, 16, 17,\n",
      "        18, 19])\n",
      "Shape : torch.Size([20])\n"
     ]
    }
   ],
   "source": [
    "# ravel : 다차원 텐서를 1차원 텐서로 변경한다.\n",
    "# ravel 같은 경우에는 어떠한 축을 기준으로 변경할 수 없기 때문에 값을 넣을 수 없다.\n",
    "\n",
    "t = torch.tensor([[i for i in range(20)]]).reshape(2,5,2)\n",
    "print(t)\n",
    "print(f\"Shape : {t.size()}\")\n",
    "print('\\n')\n",
    "\n",
    "# flatten 과 같은 기능\n",
    "revel_tensor = t.ravel()\n",
    "print(revel_tensor)\n",
    "print(f\"Shape : {revel_tensor.size()}\")"
   ]
  },
  {
   "cell_type": "code",
   "execution_count": 57,
   "id": "e0d4becc",
   "metadata": {},
   "outputs": [
    {
     "name": "stdout",
     "output_type": "stream",
     "text": [
      "Concat tensor A and B Shape :  torch.Size([7, 3])\n",
      "tensor([[6.0000, 1.0000, 1.0000],\n",
      "        [5.0000, 7.0000, 2.0000],\n",
      "        [0.4275, 0.6285, 0.3073],\n",
      "        [0.0394, 0.0159, 0.2518],\n",
      "        [0.4974, 0.3777, 0.7800],\n",
      "        [0.2621, 0.0266, 0.6758],\n",
      "        [0.8644, 0.0591, 0.6278]])\n"
     ]
    }
   ],
   "source": [
    "# cat : 주어진 차원을 따라 텐서들을 연결한다. (주어진 차원 외의 다른 차원의 크기가 같아야합니다.)\n",
    "\n",
    "tensor_a = torch.randint(1, 10, (2, 3))\n",
    "tensor_b = torch.rand(5,3)\n",
    "\n",
    "a_cat_b_row = torch.cat((tensor_a, tensor_b), dim=0) # dim = 0 행기준 합치기\n",
    "print(\"Concat tensor A and B Shape : \" , a_cat_b_row.size())\n",
    "print(a_cat_b_row)"
   ]
  },
  {
   "cell_type": "code",
   "execution_count": 58,
   "id": "cc47bffd",
   "metadata": {},
   "outputs": [
    {
     "name": "stdout",
     "output_type": "stream",
     "text": [
      "Tensor A Shape : torch.Size([2, 3])\n",
      "tensor([[9, 9, 5],\n",
      "        [9, 7, 2]])\n",
      "\n",
      "\n",
      "Tensor B Shape : torch.Size([2, 3])\n",
      "tensor([[0.8826, 0.5987, 0.1699],\n",
      "        [0.7651, 0.8638, 0.5214]])\n",
      "\n",
      "\n",
      "Stack A and B : torch.Size([2, 2, 3])\n",
      "tensor([[[9.0000, 9.0000, 5.0000],\n",
      "         [9.0000, 7.0000, 2.0000]],\n",
      "\n",
      "        [[0.8826, 0.5987, 0.1699],\n",
      "         [0.7651, 0.8638, 0.5214]]])\n"
     ]
    }
   ],
   "source": [
    "# stack : 주어진 차원을 새로운 차원으로 추가하여 텐서들을 쌓습니다.\n",
    "# 합쳐질 텐서들의 크기는 모두 같아야 한다.\n",
    "\n",
    "tensor_a = torch.randint(1, 10, (2, 3))\n",
    "tensor_b = torch.rand(2,3)\n",
    "\n",
    "print(\"Tensor A Shape :\", tensor_a.size())\n",
    "print(tensor_a)\n",
    "\n",
    "print('\\n')\n",
    "\n",
    "print(\"Tensor B Shape :\", tensor_b.size())\n",
    "print(tensor_b)\n",
    "\n",
    "print('\\n')\n",
    "\n",
    "# stack dim = 0 행 기준 합치기\n",
    "stack_tensor_row = torch.stack([tensor_a, tensor_b], dim=0)\n",
    "print(\"Stack A and B :\", stack_tensor_row.size())\n",
    "print(stack_tensor_row)"
   ]
  },
  {
   "cell_type": "code",
   "execution_count": 63,
   "id": "3792845b",
   "metadata": {},
   "outputs": [
    {
     "name": "stdout",
     "output_type": "stream",
     "text": [
      "tensor([[4, 6, 3, 8],\n",
      "        [1, 5, 1, 2],\n",
      "        [2, 9, 5, 4],\n",
      "        [4, 9, 1, 2],\n",
      "        [3, 4, 4, 2],\n",
      "        [2, 6, 6, 7]])\n",
      "\n",
      "\n",
      "3 개의 tensor로 분리\n",
      "\n",
      "\n",
      "0 번째 tensor \n",
      "tensor([[4, 6, 3, 8],\n",
      "        [1, 5, 1, 2]])\n",
      "0 번째 tensor 크기 : torch.Size([2, 4])\n",
      "----------------------------------------\n",
      "1 번째 tensor \n",
      "tensor([[2, 9, 5, 4],\n",
      "        [4, 9, 1, 2]])\n",
      "1 번째 tensor 크기 : torch.Size([2, 4])\n",
      "----------------------------------------\n",
      "2 번째 tensor \n",
      "tensor([[3, 4, 4, 2],\n",
      "        [2, 6, 6, 7]])\n",
      "2 번째 tensor 크기 : torch.Size([2, 4])\n",
      "----------------------------------------\n"
     ]
    }
   ],
   "source": [
    "# chunk : 나누고자 하는 텐서의 개수를 지정하여 원래의 텐서를 개수에 맞게 분리한다.\n",
    "tensor_a = torch.randint(1, 10, (6,4))\n",
    "print(tensor_a)\n",
    "\n",
    "print('\\n')\n",
    "\n",
    "# 나눌 값을 지정 \n",
    "chunk_num = 3 \n",
    "chunk_tensor = torch.chunk(tensor_a, chunks=chunk_num, dim=0)\n",
    "print(f\"{len(chunk_tensor)} 개의 tensor로 분리\")\n",
    "\n",
    "print('\\n')\n",
    "\n",
    "for idx, a in enumerate(chunk_tensor):\n",
    "    print(f\"{idx} 번째 tensor \\n{a}\")\n",
    "    print(f\"{idx} 번째 tensor 크기 : {a.size()}\")\n",
    "    print(\"----\" *10)\n",
    "\n"
   ]
  },
  {
   "cell_type": "code",
   "execution_count": null,
   "id": "8d211e6c",
   "metadata": {},
   "outputs": [
    {
     "name": "stdout",
     "output_type": "stream",
     "text": [
      "tensor([[5, 5, 3, 9],\n",
      "        [5, 3, 4, 2],\n",
      "        [2, 8, 7, 4],\n",
      "        [1, 3, 4, 9],\n",
      "        [3, 9, 9, 5],\n",
      "        [5, 6, 5, 8]])\n",
      "\n",
      "\n",
      "3 개의 tensor로 분리\n",
      "\n",
      "\n",
      "0 번째 tensor \n",
      "tensor([[5, 5, 3, 9],\n",
      "        [5, 3, 4, 2]])\n",
      "0 번째 tensor 크기 : torch.Size([2, 4])\n",
      "----------------------------------------\n",
      "1 번째 tensor \n",
      "tensor([[2, 8, 7, 4],\n",
      "        [1, 3, 4, 9]])\n",
      "1 번째 tensor 크기 : torch.Size([2, 4])\n",
      "----------------------------------------\n",
      "2 번째 tensor \n",
      "tensor([[3, 9, 9, 5],\n",
      "        [5, 6, 5, 8]])\n",
      "2 번째 tensor 크기 : torch.Size([2, 4])\n",
      "----------------------------------------\n"
     ]
    }
   ],
   "source": [
    "# split : 입력한 크기로 여러 개의 작은 텐서로 나눈다.\n",
    "# split_size_or_sections = int or list 형태로 전달가능\n",
    "# chunk는 나눌 갯수를 정했다면 split은 자를 크기\n",
    "\n",
    "tensor_a = torch.randint(1, 10, (6,4))\n",
    "print(tensor_a)\n",
    "\n",
    "print('\\n')\n",
    "\n",
    "# 나눌 값을 지정 \n",
    "# int 로 값을 전달\n",
    "split_num = 2 \n",
    "split_tensor = torch.split(tensor_a, split_size_or_sections=split_num, dim=0)\n",
    "print(f\"{len(split_tensor)} 개의 tensor로 분리\")\n",
    "\n",
    "print('\\n')\n",
    "\n",
    "for idx, a in enumerate(split_tensor):\n",
    "    print(f\"{idx} 번째 tensor \\n{a}\")\n",
    "    print(f\"{idx} 번째 tensor 크기 : {a.size()}\")\n",
    "    print(\"----\" *10)\n",
    "\n"
   ]
  },
  {
   "cell_type": "code",
   "execution_count": null,
   "id": "7e2626f6",
   "metadata": {},
   "outputs": [
    {
     "name": "stdout",
     "output_type": "stream",
     "text": [
      "tensor([[5, 8, 5, 2],\n",
      "        [4, 7, 8, 6],\n",
      "        [1, 2, 1, 6],\n",
      "        [4, 2, 9, 7],\n",
      "        [6, 7, 3, 8],\n",
      "        [9, 4, 2, 6]])\n",
      "\n",
      "\n",
      "2 개의 tensor로 분리\n",
      "\n",
      "\n",
      "0 번째 tensor \n",
      "tensor([[5, 8, 5, 2],\n",
      "        [4, 7, 8, 6]])\n",
      "0 번째 tensor 크기 : torch.Size([2, 4])\n",
      "----------------------------------------\n",
      "1 번째 tensor \n",
      "tensor([[1, 2, 1, 6],\n",
      "        [4, 2, 9, 7],\n",
      "        [6, 7, 3, 8],\n",
      "        [9, 4, 2, 6]])\n",
      "1 번째 tensor 크기 : torch.Size([4, 4])\n",
      "----------------------------------------\n"
     ]
    }
   ],
   "source": [
    "# split : 입력한 크기로 여러 개의 작은 텐서로 나눈다.\n",
    "\n",
    "tensor_a = torch.randint(1, 10, (6,4))\n",
    "print(tensor_a)\n",
    "\n",
    "print('\\n')\n",
    "\n",
    "# 나눌 값을 지정 \n",
    "# 리스트 형태로 전달\n",
    "split_num = [2,4]\n",
    "split_tensor = torch.split(tensor_a, split_size_or_sections=split_num, dim=0)\n",
    "print(f\"{len(split_tensor)} 개의 tensor로 분리\")\n",
    "\n",
    "print('\\n')\n",
    "\n",
    "for idx, a in enumerate(split_tensor):\n",
    "    print(f\"{idx} 번째 tensor \\n{a}\")\n",
    "    print(f\"{idx} 번째 tensor 크기 : {a.size()}\")\n",
    "    print(\"----\" *10)\n"
   ]
  },
  {
   "cell_type": "code",
   "execution_count": null,
   "id": "76fcad1a",
   "metadata": {},
   "outputs": [],
   "source": []
  }
 ],
 "metadata": {
  "kernelspec": {
   "display_name": "pytorch_test",
   "language": "python",
   "name": "python3"
  },
  "language_info": {
   "codemirror_mode": {
    "name": "ipython",
    "version": 3
   },
   "file_extension": ".py",
   "mimetype": "text/x-python",
   "name": "python",
   "nbconvert_exporter": "python",
   "pygments_lexer": "ipython3",
   "version": "3.10.18"
  }
 },
 "nbformat": 4,
 "nbformat_minor": 5
}
