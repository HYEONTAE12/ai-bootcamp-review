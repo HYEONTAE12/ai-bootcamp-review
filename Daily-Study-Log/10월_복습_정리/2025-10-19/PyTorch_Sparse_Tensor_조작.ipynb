{
 "cells": [
  {
   "cell_type": "code",
   "execution_count": 1,
   "id": "d3fa2534",
   "metadata": {},
   "outputs": [],
   "source": [
    "import torch\n",
    "import numpy as np\n",
    "import warnings\n",
    "warnings.filterwarnings('ignore')"
   ]
  },
  {
   "cell_type": "code",
   "execution_count": 2,
   "id": "70316cda",
   "metadata": {},
   "outputs": [
    {
     "data": {
      "text/plain": [
       "tensor(indices=tensor([[0, 1],\n",
       "                       [1, 0]]),\n",
       "       values=tensor([2, 3]),\n",
       "       size=(2, 2), nnz=2, layout=torch.sparse_coo)"
      ]
     },
     "execution_count": 2,
     "metadata": {},
     "output_type": "execute_result"
    }
   ],
   "source": [
    "# COO Sparse Tensor \n",
    "\n",
    "a = torch.tensor([[0, 2],[3, 0]])\n",
    "\n",
    "# COO Sparse Tensor로 변환\n",
    "a.to_sparse()"
   ]
  },
  {
   "cell_type": "code",
   "execution_count": 3,
   "id": "bf81dac9",
   "metadata": {},
   "outputs": [
    {
     "name": "stdout",
     "output_type": "stream",
     "text": [
      "tensor(indices=tensor([[0, 1, 1],\n",
      "                       [2, 0, 1]]),\n",
      "       values=tensor([4, 5, 6]),\n",
      "       size=(2, 3), nnz=3, layout=torch.sparse_coo)\n",
      "\n",
      "\n",
      "tensor([[0, 0, 4],\n",
      "        [5, 6, 0]])\n"
     ]
    }
   ],
   "source": [
    "# sparse_coo_tensor : COO형식의 sparse tensor를 생성하는 함수\n",
    "\n",
    "# indices : 0 이 아닌 값을 가진 행, 열의 위치\n",
    "# values : 0 이 아닌 값\n",
    "# nnz : 0 이 아닌 값의 개수\n",
    "\n",
    "indices = torch.tensor([[0,1,1],[2,0,1]])\n",
    "values = torch.tensor([4,5,6])\n",
    "sparse_tensor = torch.sparse_coo_tensor(indices= indices, values = values, size= (2,3))\n",
    "\n",
    "print(sparse_tensor)\n",
    "print('\\n')\n",
    "\n",
    "# .to_dense()는 이 희소 표현을 다시 일반적인 Dense Tensor \n",
    "# (즉, 보통 우리가 아는 일반 행렬) 로 바꿔주는 함수\n",
    "print(sparse_tensor.to_dense())"
   ]
  },
  {
   "cell_type": "code",
   "execution_count": 4,
   "id": "e3f4075b",
   "metadata": {},
   "outputs": [
    {
     "name": "stdout",
     "output_type": "stream",
     "text": [
      "Shape : torch.Size([2, 4])\n",
      "tensor([[0, 0, 4, 3],\n",
      "        [5, 6, 0, 0]])\n",
      "\n",
      "\n"
     ]
    },
    {
     "data": {
      "text/plain": [
       "tensor(crow_indices=tensor([0, 2, 4]),\n",
       "       col_indices=tensor([2, 3, 0, 1]),\n",
       "       values=tensor([4, 3, 5, 6]), size=(2, 4), nnz=4,\n",
       "       layout=torch.sparse_csr)"
      ]
     },
     "execution_count": 4,
     "metadata": {},
     "output_type": "execute_result"
    }
   ],
   "source": [
    "# to_sparse_csr : Dense tensor 를 CSR 형식의 Sparse tensor로 변환하는 함수\n",
    "\n",
    "# crow_indices : 0 이 아닌 값을 가진 행의 위치 (첫번째는 무조건 0)\n",
    "# col_indices : 0 이 아닌 값을 가진 열의 위치\n",
    "# values : 0 이 아닌 값\n",
    "# nnz : 0 이 아닌 값의 개수\n",
    "\n",
    "t = torch.tensor([[0,0,4,3], [5,6,0,0]])\n",
    "print(f\"Shape : {t.size()}\")\n",
    "print(t)\n",
    "\n",
    "print('\\n')\n",
    "\n",
    "# Dense tensor 를 CSR Sparse tensor 형식으로 변환\n",
    "t.to_sparse_csr()"
   ]
  },
  {
   "cell_type": "code",
   "execution_count": null,
   "id": "68456f24",
   "metadata": {},
   "outputs": [
    {
     "name": "stdout",
     "output_type": "stream",
     "text": [
      "Shape : torch.Size([2, 4])\n",
      "tensor([[0, 0, 4, 3],\n",
      "        [5, 6, 0, 0]])\n",
      "\n",
      "\n"
     ]
    },
    {
     "data": {
      "text/plain": [
       "tensor(ccol_indices=tensor([0, 1, 2, 3, 4]),\n",
       "       row_indices=tensor([1, 1, 0, 0]),\n",
       "       values=tensor([5, 6, 4, 3]), size=(2, 4), nnz=4,\n",
       "       layout=torch.sparse_csc)"
      ]
     },
     "execution_count": 12,
     "metadata": {},
     "output_type": "execute_result"
    }
   ],
   "source": [
    "# to_sparse_csc : Dense tensor 를 CSC 형식의 Sparse tensor로 변환하는 함수\n",
    "\n",
    "# ccol_indices : 0 이 아닌 값을 가진 열의 위치 (첫번째는 무조건 0)\n",
    "# row_indices : 0 이 아닌 값을 가진 열의 위치\n",
    "# values : 0 이 아닌 값\n",
    "# nnz : 0 이 아닌 값의 개수\n",
    "\n",
    "t = torch.tensor([[0,0,4,3], [5,6,0,0]])\n",
    "print(f\"Shape : {t.size()}\")\n",
    "print(t)\n",
    "\n",
    "print('\\n')\\\n",
    "\n",
    "# Dense tensor 를 CSC Sparse tensor 형식으로 변환\n",
    "t.to_sparse_csc()"
   ]
  },
  {
   "cell_type": "code",
   "execution_count": null,
   "id": "d791023d",
   "metadata": {},
   "outputs": [
    {
     "name": "stdout",
     "output_type": "stream",
     "text": [
      "tensor(crow_indices=tensor([0, 2, 2]),\n",
      "       col_indices=tensor([0, 1]),\n",
      "       values=tensor([1, 2]), size=(2, 2), nnz=2, layout=torch.sparse_csr)\n",
      "\n",
      "\n",
      "tensor([[1, 2],\n",
      "        [0, 0]])\n"
     ]
    }
   ],
   "source": [
    "# CSR Tensor 생성\n",
    "# sparse_csr_tensor : CSR 형식의 Sparse tensor를 생성하는 함수\n",
    "crow_indices = torch.tensor([0,2,2]) # 0이 아닌 행의 위치 (첫 번째는 무조건 0), 즉 row_pointer\n",
    "col_indices = torch.tensor([0,1]) # 0이 아닌 열의 위치\n",
    "values = torch.tensor([1,2]) # 0이 아닌 값\n",
    "csr = torch.sparse_csr_tensor(crow_indices=crow_indices, col_indices = col_indices, values =values)\n",
    "\n",
    "\n",
    "print(csr)\n",
    "print('\\n')\n",
    "print(csr.to_dense())\n"
   ]
  },
  {
   "cell_type": "code",
   "execution_count": null,
   "id": "aad945b3",
   "metadata": {},
   "outputs": [
    {
     "name": "stdout",
     "output_type": "stream",
     "text": [
      "tensor(ccol_indices=tensor([0, 2, 2]),\n",
      "       row_indices=tensor([0, 1]),\n",
      "       values=tensor([1, 2]), size=(2, 2), nnz=2, layout=torch.sparse_csc)\n",
      "\n",
      "\n",
      "tensor([[1, 0],\n",
      "        [2, 0]])\n"
     ]
    }
   ],
   "source": [
    "# CSC Tensor 생성\n",
    "# sparse_csc_tensor : CSC 형식의 Sparse tensor를 생성하는 함수\n",
    "ccol_indices = torch.tensor([0,2,2]) # 0이 아닌 열의 위치 (첫 번째는 무조건 0), 즉 column_pointer\n",
    "row_indices = torch.tensor([0,1]) # 0이 아닌 행의 위치\n",
    "values = torch.tensor([1,2]) # 0이 아닌 값\n",
    "csc = torch.sparse_csc_tensor(ccol_indices=ccol_indices, row_indices = col_indices, values =values)\n",
    "\n",
    "\n",
    "print(csc)\n",
    "print('\\n')\n",
    "print(csc.to_dense())\n"
   ]
  },
  {
   "cell_type": "code",
   "execution_count": null,
   "id": "5ffd61b9",
   "metadata": {},
   "outputs": [
    {
     "name": "stdout",
     "output_type": "stream",
     "text": [
      "덧셈\n",
      "tensor([[True, True],\n",
      "        [True, True]])\n",
      "\n",
      "\n",
      "곱셈\n",
      "tensor([[True, True],\n",
      "        [True, True]])\n",
      "\n",
      "\n",
      "행렬곱\n",
      "tensor([[True, True],\n",
      "        [True, True]])\n"
     ]
    }
   ],
   "source": [
    "# Sparse 와 Sparse tensor 간의 연산 (2차원) / 3차원의 sparse tensor간의 연산은 불가능 , 덧셈 곱셈은 가능\n",
    "# dense도 동일하다.\n",
    "# 동일한 연산 결과를 가져온다.\n",
    "# 그렇기에 빅데이터를 다룰 때는 sparse tensor를 사용해야한다.\n",
    "a = torch.tensor([[0,1], [0,2]], dtype=torch.float32)\n",
    "b = torch.tensor([[1,0], [0,0]], dtype=torch.float32)\n",
    "\n",
    "sparse_a = a.to_sparse()\n",
    "sparse_b = b.to_sparse()\n",
    "\n",
    "print('덧셈')\n",
    "print(torch.add(a,b).to_dense() == torch.add(sparse_a, sparse_b).to_dense())\n",
    "\n",
    "print('\\n')\n",
    "\n",
    "print('곱셈')\n",
    "print(torch.mul(a,b).to_dense() == torch.mul(sparse_a, sparse_b).to_dense())\n",
    "\n",
    "print('\\n')\n",
    "\n",
    "print('행렬곱')\n",
    "print(torch.matmul(a,b).to_dense() == torch.matmul(sparse_a, sparse_b).to_dense())"
   ]
  },
  {
   "cell_type": "code",
   "execution_count": 19,
   "id": "cc84041e",
   "metadata": {},
   "outputs": [
    {
     "name": "stdout",
     "output_type": "stream",
     "text": [
      "2차원 Sparse Tensor 인덱싱\n",
      "tensor([True, True])\n",
      "\n",
      "\n",
      "3차원 Sparse Tensor 인덱싱\n",
      "tensor([[True, True],\n",
      "        [True, True]])\n"
     ]
    }
   ],
   "source": [
    "# 인덱싱은 2차원 3차원 동일하게 가능\n",
    "# 하지만 전체 요소를 추출할 경우 -> 에러 발생\n",
    "a = torch.tensor([[0,1], [0,2 ]], dtype=torch.float)\n",
    "b = torch.tensor([[[0,1], [0,2 ]], [[1,0], [0, 0]]], dtype=torch.float)\n",
    "\n",
    "sparse_a = a.to_sparse()\n",
    "sparse_b = b.to_sparse()\n",
    "\n",
    "print('2차원 Sparse Tensor 인덱싱')\n",
    "print(a[0] == sparse_a[0].to_dense())\n",
    "\n",
    "print('\\n')\n",
    "\n",
    "print('3차원 Sparse Tensor 인덱싱')\n",
    "print(b[0] == sparse_b[0].to_dense())\n",
    "\n"
   ]
  },
  {
   "cell_type": "code",
   "execution_count": null,
   "id": "1dfbdf27",
   "metadata": {},
   "outputs": [],
   "source": []
  }
 ],
 "metadata": {
  "kernelspec": {
   "display_name": "pytorch_test",
   "language": "python",
   "name": "python3"
  },
  "language_info": {
   "codemirror_mode": {
    "name": "ipython",
    "version": 3
   },
   "file_extension": ".py",
   "mimetype": "text/x-python",
   "name": "python",
   "nbconvert_exporter": "python",
   "pygments_lexer": "ipython3",
   "version": "3.10.18"
  }
 },
 "nbformat": 4,
 "nbformat_minor": 5
}
