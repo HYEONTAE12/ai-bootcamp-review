{
 "cells": [
  {
   "cell_type": "code",
   "execution_count": 1,
   "id": "68330ef6",
   "metadata": {},
   "outputs": [],
   "source": [
    "# ==== Core ====\n",
    "import os\n",
    "import warnings\n",
    "warnings.filterwarnings(\"ignore\")\n",
    "\n",
    "import numpy as np\n",
    "import pandas as pd\n",
    "import re\n",
    "# ==== Viz ====\n",
    "import matplotlib.pyplot as plt\n",
    "import matplotlib.font_manager as fm\n",
    "import seaborn as sns\n",
    "from IPython.display import display\n",
    "\n",
    "# ==== Stats / Transforms ====\n",
    "from scipy.special import boxcox1p\n",
    "from mplfinance.original_flavor import candlestick_ohlc\n",
    "\n",
    "# ==== Scikit-learn ====\n",
    "from sklearn.model_selection import train_test_split\n",
    "from sklearn.preprocessing import (\n",
    "    OneHotEncoder, LabelEncoder,\n",
    "    StandardScaler, MinMaxScaler, RobustScaler\n",
    ")\n",
    "from sklearn.compose import ColumnTransformer\n",
    "from sklearn.impute import SimpleImputer\n",
    "from sklearn.pipeline import Pipeline\n",
    "from sklearn.ensemble import RandomForestRegressor\n",
    "from sklearn.inspection import permutation_importance\n",
    "from sklearn.metrics import mean_squared_error, mean_absolute_error, r2_score\n",
    "from sklearn import metrics\n",
    "import lightgbm as lgb\n",
    "from lightgbm import LGBMRegressor\n",
    "from scipy import stats\n",
    "from itertools import combinations\n",
    "from statsmodels.stats.multitest import multipletests\n",
    "from sklearn.model_selection import KFold\n",
    "from sklearn.cluster import KMeans\n",
    "from sklearn.model_selection import train_test_split\n",
    "from sklearn.neighbors import BallTree\n",
    "from sklearn.neighbors import NearestNeighbors\n",
    "import optuna\n",
    "import pickle\n",
    "import math\n",
    "from sklearn.model_selection import StratifiedKFold\n",
    "from sklearn.model_selection import TimeSeriesSplit\n",
    "import warnings\n",
    "warnings.filterwarnings(\"ignore\")"
   ]
  },
  {
   "cell_type": "code",
   "execution_count": null,
   "id": "2dd19f12",
   "metadata": {},
   "outputs": [],
   "source": [
    "# 한글 깨짐 방지\n",
    "import matplotlib\n",
    "matplotlib.rc('font', family='NanumGothic')  # 또는 'NanumBarunGothic'\n",
    "plt.rcParams['axes.unicode_minus'] = False"
   ]
  },
  {
   "cell_type": "code",
   "execution_count": null,
   "id": "e848cce9",
   "metadata": {},
   "outputs": [],
   "source": [
    "# 주소지정\n",
    "os.chdir(r'/workspace/project/upstage-ml-regression-sigma7/data')"
   ]
  },
  {
   "cell_type": "code",
   "execution_count": null,
   "id": "5e71e288",
   "metadata": {},
   "outputs": [],
   "source": [
    "# 데이터 불러오기\n",
    "train_file = r'train.csv'\n",
    "test_file = r'test.csv'\n",
    "\n",
    "train = pd.read_csv(train_file, encoding= 'utf-8')\n",
    "test = pd.read_csv(test_file, encoding= 'utf-8')"
   ]
  },
  {
   "cell_type": "code",
   "execution_count": null,
   "id": "1222f73a",
   "metadata": {},
   "outputs": [],
   "source": [
    "# 데이터 확\n",
    "print('train 데이터입니다.')\n",
    "train"
   ]
  },
  {
   "cell_type": "code",
   "execution_count": null,
   "id": "70209b83",
   "metadata": {},
   "outputs": [],
   "source": [
    "# feature 분포 확인\n",
    "numeric_cols = train.select_dtypes(include=['int64','float64']).columns\n",
    "\n",
    "for col in numeric_cols:\n",
    "    sns.histplot(data=train, x=col, bins=30, kde=True)\n",
    "    plt.title(f\"Distribution of {col}\")\n",
    "    plt.show()"
   ]
  },
  {
   "cell_type": "code",
   "execution_count": 6,
   "id": "9cb43c91",
   "metadata": {},
   "outputs": [
    {
     "ename": "NameError",
     "evalue": "name 'train' is not defined",
     "output_type": "error",
     "traceback": [
      "\u001b[1;31m---------------------------------------------------------------------------\u001b[0m",
      "\u001b[1;31mNameError\u001b[0m                                 Traceback (most recent call last)",
      "Cell \u001b[1;32mIn[6], line 5\u001b[0m\n\u001b[0;32m      2\u001b[0m continuous_columns \u001b[38;5;241m=\u001b[39m []\n\u001b[0;32m      3\u001b[0m categorical_columns \u001b[38;5;241m=\u001b[39m []\n\u001b[1;32m----> 5\u001b[0m \u001b[38;5;28;01mfor\u001b[39;00m column \u001b[38;5;129;01min\u001b[39;00m \u001b[43mtrain\u001b[49m\u001b[38;5;241m.\u001b[39mcolumns:\n\u001b[0;32m      6\u001b[0m     \u001b[38;5;28;01mif\u001b[39;00m pd\u001b[38;5;241m.\u001b[39mapi\u001b[38;5;241m.\u001b[39mtypes\u001b[38;5;241m.\u001b[39mis_numeric_dtype(train[column]):\n\u001b[0;32m      7\u001b[0m         continuous_columns\u001b[38;5;241m.\u001b[39mappend(column)\n",
      "\u001b[1;31mNameError\u001b[0m: name 'train' is not defined"
     ]
    }
   ],
   "source": [
    "# 수치형 변수, 범주형 변수 확인\n",
    "continuous_columns = []\n",
    "categorical_columns = []\n",
    "\n",
    "for column in train.columns:\n",
    "    if pd.api.types.is_numeric_dtype(train[column]):\n",
    "        continuous_columns.append(column)\n",
    "    else:\n",
    "        categorical_columns.append(column)\n",
    "\n",
    "print(\"연속형 변수:\", continuous_columns)\n",
    "print(\"범주형 변수:\", categorical_columns)"
   ]
  },
  {
   "cell_type": "code",
   "execution_count": null,
   "id": "33b1b13c",
   "metadata": {},
   "outputs": [
    {
     "ename": "NameError",
     "evalue": "name 'continuous_columns' is not defined",
     "output_type": "error",
     "traceback": [
      "\u001b[1;31m---------------------------------------------------------------------------\u001b[0m",
      "\u001b[1;31mNameError\u001b[0m                                 Traceback (most recent call last)",
      "Cell \u001b[1;32mIn[5], line 1\u001b[0m\n\u001b[1;32m----> 1\u001b[0m \u001b[38;5;28;01mfor\u001b[39;00m col \u001b[38;5;129;01min\u001b[39;00m \u001b[43mcontinuous_columns\u001b[49m:\n\u001b[0;32m      2\u001b[0m     sns\u001b[38;5;241m.\u001b[39mboxplot(data \u001b[38;5;241m=\u001b[39m train, x \u001b[38;5;241m=\u001b[39m col, color\u001b[38;5;241m=\u001b[39m\u001b[38;5;124m'\u001b[39m\u001b[38;5;124mlightgreen\u001b[39m\u001b[38;5;124m'\u001b[39m)\n\u001b[0;32m      3\u001b[0m     plt\u001b[38;5;241m.\u001b[39mtitle(\u001b[38;5;124m'\u001b[39m\u001b[38;5;124m전용면적 분포\u001b[39m\u001b[38;5;124m'\u001b[39m)\n",
      "\u001b[1;31mNameError\u001b[0m: name 'continuous_columns' is not defined"
     ]
    }
   ],
   "source": [
    "for col in continuous_columns:\n",
    "    plt.figure(figsize=(8,4)) \n",
    "    sns.boxplot(data = train, x = col, color='lightgreen')\n",
    "    plt.title('전용면적 분포')\n",
    "    plt.xlabel('Area')\n",
    "    plt.show()"
   ]
  },
  {
   "cell_type": "code",
   "execution_count": null,
   "id": "75b8fc53",
   "metadata": {},
   "outputs": [],
   "source": [
    "# 파생변수 생 \n",
    "\n",
    "# 계약년월 -> 계약년 / 계약월 분할 \n",
    "train['계약년월'] = pd.to_datetime(train['계약년월'], format='%Y%m' )\n",
    "\n",
    "train['계약년'] = train['계약년월'].dt.year\n",
    "train['계약월'] = train['계약년월'].dt.month"
   ]
  },
  {
   "cell_type": "code",
   "execution_count": null,
   "id": "841bf6c2",
   "metadata": {},
   "outputs": [],
   "source": []
  },
  {
   "cell_type": "code",
   "execution_count": null,
   "id": "603d7712",
   "metadata": {},
   "outputs": [],
   "source": []
  },
  {
   "cell_type": "code",
   "execution_count": null,
   "id": "af140288",
   "metadata": {},
   "outputs": [],
   "source": []
  },
  {
   "cell_type": "code",
   "execution_count": null,
   "id": "73397cf8",
   "metadata": {},
   "outputs": [],
   "source": []
  },
  {
   "cell_type": "code",
   "execution_count": null,
   "id": "8f912de6",
   "metadata": {},
   "outputs": [],
   "source": []
  },
  {
   "cell_type": "code",
   "execution_count": null,
   "id": "f8911759",
   "metadata": {},
   "outputs": [],
   "source": []
  },
  {
   "cell_type": "code",
   "execution_count": null,
   "id": "585b54a8",
   "metadata": {},
   "outputs": [],
   "source": []
  }
 ],
 "metadata": {
  "kernelspec": {
   "display_name": "py0310",
   "language": "python",
   "name": "python3"
  },
  "language_info": {
   "codemirror_mode": {
    "name": "ipython",
    "version": 3
   },
   "file_extension": ".py",
   "mimetype": "text/x-python",
   "name": "python",
   "nbconvert_exporter": "python",
   "pygments_lexer": "ipython3",
   "version": "3.10.18"
  }
 },
 "nbformat": 4,
 "nbformat_minor": 5
}
